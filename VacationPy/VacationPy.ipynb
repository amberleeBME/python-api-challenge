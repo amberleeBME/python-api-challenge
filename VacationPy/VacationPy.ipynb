{
 "cells": [
  {
   "cell_type": "markdown",
   "source": [
    "# VacationPy\n",
    "----\n",
    "\n",
    "#### Note\n",
    "* Keep an eye on your API usage. Use https://developers.google.com/maps/reporting/gmp-reporting as reference for how to monitor your usage and billing.\n",
    "\n",
    "* Instructions have been included for each segment. You do not have to follow them exactly, but they are included to help you think through the steps."
   ],
   "metadata": {}
  },
  {
   "cell_type": "code",
   "execution_count": null,
   "source": [
    "# Dependencies and Setup\r\n",
    "import matplotlib.pyplot as plt\r\n",
    "import pandas as pd\r\n",
    "import numpy as np\r\n",
    "import requests\r\n",
    "import gmaps\r\n",
    "import os\r\n",
    "import json\r\n",
    "from pprint import pprint\r\n",
    "# Import API key\r\n",
    "from api_keys import g_key"
   ],
   "outputs": [],
   "metadata": {}
  },
  {
   "cell_type": "markdown",
   "source": [
    "### Store Part I results into DataFrame\n",
    "* Load the csv exported in Part I to a DataFrame"
   ],
   "metadata": {}
  },
  {
   "cell_type": "code",
   "execution_count": null,
   "source": [
    "df = pd.read_csv('../output_data/Cities_Weather_Data.csv')\r\n",
    "df.head()"
   ],
   "outputs": [],
   "metadata": {}
  },
  {
   "cell_type": "markdown",
   "source": [
    "### Humidity Heatmap\n",
    "* Configure gmaps.\n",
    "* Use the Lat and Lng as locations and Humidity as the weight.\n",
    "* Add Heatmap layer to map."
   ],
   "metadata": {}
  },
  {
   "cell_type": "code",
   "execution_count": null,
   "source": [
    "gmaps.configure(api_key=g_key)\r\n",
    "\r\n",
    "FigureLayout={\r\n",
    "    'width': '600x',\r\n",
    "    'height': '600px',\r\n",
    "    'margin': '0 auto 0 auto'\r\n",
    "}\r\n",
    "\r\n",
    "fig = gmaps.figure(layout=FigureLayout, zoom_level=2, center=(0,0))"
   ],
   "outputs": [],
   "metadata": {}
  },
  {
   "cell_type": "code",
   "execution_count": null,
   "source": [
    "locations=df[[\"Lat\",\"Lng\"]].astype(float)\r\n",
    "humidity=df[\"Humidity\"].astype(float)\r\n",
    "\r\n",
    "# Create heatmap layer\r\n",
    "heat_layer = gmaps.heatmap_layer(locations, weights=humidity, \r\n",
    "                                 dissipating=False, max_intensity=100,\r\n",
    "                                 point_radius=2)\r\n",
    "# Add layer\r\n",
    "fig.add_layer(heat_layer)\r\n",
    "\r\n",
    "# Display figure\r\n",
    "fig"
   ],
   "outputs": [],
   "metadata": {}
  },
  {
   "cell_type": "markdown",
   "source": [
    "### Create new DataFrame fitting weather criteria\n",
    "* Narrow down the cities to fit weather conditions.\n",
    "* Drop any rows will null values."
   ],
   "metadata": {}
  },
  {
   "cell_type": "code",
   "execution_count": null,
   "source": [
    "# Ideal Weather Conditions\r\n",
    "# Max temp lower than 75 degrees but higher than 70\r\n",
    "# Wind speed less than 5 mph\r\n",
    "# Humidity less than 80% but higher than 40%\r\n",
    "\r\n",
    "ideal_df=df.loc[(df[\"Max Temp\"]>=70)&(df[\"Max Temp\"]<75)&(df[\"Wind Speed\"]<5)&(df[\"Humidity\"]<80)&(df[\"Humidity\"]>40)&(df[\"Cloudiness\"]<20)]\r\n",
    "\r\n",
    "if len(ideal_df)>10:\r\n",
    "    ideal_df=ideal_df.iloc[:10,:]\r\n",
    "ideal_df"
   ],
   "outputs": [],
   "metadata": {}
  },
  {
   "cell_type": "markdown",
   "source": [
    "### Hotel Map\n",
    "* Store into variable named `hotel_df`.\n",
    "* Add a \"Hotel Name\" column to the DataFrame.\n",
    "* Set parameters to search for hotels with 5000 meters.\n",
    "* Hit the Google Places API for each city's coordinates.\n",
    "* Store the first Hotel result into the DataFrame.\n",
    "* Plot markers on top of the heatmap."
   ],
   "metadata": {}
  },
  {
   "cell_type": "code",
   "execution_count": null,
   "source": [
    "hotel_df=ideal_df.copy()\r\n",
    "hname=[]\r\n",
    "\r\n",
    "target_locations=[]\r\n",
    "target_radius=5000\r\n",
    "target_query=\"hotel\"\r\n",
    "target_type=\"lodging\"\r\n",
    "\r\n",
    "x=range(len(ideal_df))\r\n",
    "\r\n",
    "#base url\r\n",
    "base_url = \"https://maps.googleapis.com/maps/api/place/nearbysearch/json?\"\r\n",
    "for n in x:\r\n",
    "    coord=f\"{ideal_df.iloc[n,2]}, {ideal_df.iloc[n,3]}\"\r\n",
    "    search_params = {\r\n",
    "        \"location\":coord,\r\n",
    "        \"type\":target_type,\r\n",
    "        \"radius\": target_radius,\r\n",
    "        \"key\":g_key\r\n",
    "    }\r\n",
    "    response = requests.get(base_url, params=search_params).json()\r\n",
    "    hname.append(response[\"results\"][0][\"name\"])\r\n",
    "hotel_df[\"Hotel Name\"]=hname\r\n"
   ],
   "outputs": [],
   "metadata": {}
  },
  {
   "cell_type": "code",
   "execution_count": null,
   "source": [
    "# NOTE: Do not change any of the code in this cell\r\n",
    "\r\n",
    "# Using the template add the hotel marks to the heatmap\r\n",
    "info_box_template = \"\"\"\r\n",
    "<dl>\r\n",
    "<dt>Name</dt><dd>{Hotel Name}</dd>\r\n",
    "<dt>City</dt><dd>{City}</dd>\r\n",
    "<dt>Country</dt><dd>{Country}</dd>\r\n",
    "</dl>\r\n",
    "\"\"\"\r\n",
    "# Store the DataFrame Row\r\n",
    "# NOTE: be sure to update with your DataFrame name\r\n",
    "hotel_info = [info_box_template.format(**row) for index, row in hotel_df.iterrows()]\r\n",
    "locations = hotel_df[[\"Lat\", \"Lng\"]]"
   ],
   "outputs": [],
   "metadata": {}
  },
  {
   "cell_type": "code",
   "execution_count": null,
   "source": [
    "hotel_df\r\n",
    "# Add marker layer ontop of heat map\r\n",
    "markers = gmaps.marker_layer(locations, info_box_content=hotel_info)\r\n",
    "\r\n",
    "# Display figure\r\n",
    "fig.add_layer(markers)\r\n",
    "fig"
   ],
   "outputs": [],
   "metadata": {}
  },
  {
   "cell_type": "code",
   "execution_count": null,
   "source": [],
   "outputs": [],
   "metadata": {}
  }
 ],
 "metadata": {
  "kernelspec": {
   "display_name": "Python 3",
   "language": "python",
   "name": "python3"
  },
  "language_info": {
   "codemirror_mode": {
    "name": "ipython",
    "version": 3
   },
   "file_extension": ".py",
   "mimetype": "text/x-python",
   "name": "python",
   "nbconvert_exporter": "python",
   "pygments_lexer": "ipython3",
   "version": "3.8.8"
  },
  "latex_envs": {
   "LaTeX_envs_menu_present": true,
   "autoclose": false,
   "autocomplete": true,
   "bibliofile": "biblio.bib",
   "cite_by": "apalike",
   "current_citInitial": 1,
   "eqLabelWithNumbers": true,
   "eqNumInitial": 1,
   "hotkeys": {
    "equation": "Ctrl-E",
    "itemize": "Ctrl-I"
   },
   "labels_anchors": false,
   "latex_user_defs": false,
   "report_style_numbering": false,
   "user_envs_cfg": false
  }
 },
 "nbformat": 4,
 "nbformat_minor": 4
}