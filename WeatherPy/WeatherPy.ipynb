{
 "cells": [
  {
   "cell_type": "markdown",
   "metadata": {},
   "source": [
    "# WeatherPy\n",
    "----"
   ]
  },
  {
   "cell_type": "code",
   "execution_count": 24,
   "metadata": {
    "scrolled": true
   },
   "outputs": [],
   "source": [
    "# Dependencies and Setup\n",
    "import matplotlib.pyplot as plt\n",
    "import pandas as pd\n",
    "import numpy as np\n",
    "import requests\n",
    "import time\n",
    "from scipy import stats\n",
    "from scipy.stats import linregress\n",
    "from pprint import pprint\n",
    "\n",
    "# Import API key\n",
    "from api_keys import weather_api_key\n",
    "\n",
    "# Incorporated citipy to determine city based on latitude and longitude\n",
    "from citipy import citipy\n",
    "\n",
    "# Output File (CSV)\n",
    "output_data_file = \"../output_data/Cities_Weather_Data.csv\"\n",
    "\n",
    "# Range of latitudes and longitudes\n",
    "lat_range = (-90, 90)\n",
    "lng_range = (-180, 180)"
   ]
  },
  {
   "cell_type": "markdown",
   "metadata": {},
   "source": [
    "## Generate Cities List"
   ]
  },
  {
   "cell_type": "code",
   "execution_count": 25,
   "metadata": {},
   "outputs": [
    {
     "data": {
      "text/plain": [
       "621"
      ]
     },
     "execution_count": 25,
     "metadata": {},
     "output_type": "execute_result"
    }
   ],
   "source": [
    "# List for holding lat_lngs and cities\n",
    "lat_lngs = []\n",
    "cities = []\n",
    "\n",
    "# Create a set of random lat and lng combinations\n",
    "lats = np.random.uniform(lat_range[0], lat_range[1], size=1500)\n",
    "lngs = np.random.uniform(lng_range[0], lng_range[1], size=1500)\n",
    "lat_lngs = zip(lats, lngs)\n",
    "\n",
    "# Identify nearest city for each lat, lng combination\n",
    "for lat_lng in lat_lngs:\n",
    "    city = citipy.nearest_city(lat_lng[0], lat_lng[1]).city_name\n",
    "    \n",
    "    # If the city is unique, then add it to a our cities list\n",
    "    if city not in cities:\n",
    "        cities.append(city)\n",
    "\n",
    "# Print the city count to confirm sufficient count\n",
    "len(cities) "
   ]
  },
  {
   "cell_type": "markdown",
   "metadata": {},
   "source": [
    "### Perform API Calls\n",
    "* Perform a weather check on each city using a series of successive API calls.\n",
    "* Include a print log of each city as it'sbeing processed (with the city number and city name).\n"
   ]
  },
  {
   "cell_type": "code",
   "execution_count": 53,
   "metadata": {
    "scrolled": true
   },
   "outputs": [
    {
     "name": "stdout",
     "output_type": "stream",
     "text": [
      "Beginning Data Retrieval\n",
      "-----------------------------\n",
      "Processing city #1: new norfolk\n",
      "Processing city #2: san cristobal\n",
      "City #3 Not Found, Skipped\n",
      "Processing city #4: nikolskoye\n",
      "City #5 Not Found, Skipped\n",
      "Processing city #6: rio grande\n",
      "Processing city #7: sibolga\n",
      "Processing city #8: ribeira grande\n",
      "Processing city #9: russkaya polyana\n",
      "Processing city #10: hobart\n",
      "Processing city #11: mataura\n",
      "Processing city #12: calvia\n",
      "City #13 Not Found, Skipped\n",
      "Processing city #14: mahebourg\n",
      "Processing city #15: rikitea\n",
      "Processing city #16: hilo\n",
      "Processing city #17: vostok\n",
      "Processing city #18: vaini\n",
      "Processing city #19: asfi\n",
      "Processing city #20: atuona\n",
      "Processing city #21: port hardy\n",
      "City #22 Not Found, Skipped\n",
      "Processing city #23: toora-khem\n",
      "Processing city #24: tiznit\n",
      "Processing city #25: yarmouth\n",
      "Processing city #26: high level\n",
      "Processing city #27: khotynets\n",
      "Processing city #28: yellowknife\n",
      "Processing city #29: hithadhoo\n",
      "Processing city #30: arraial do cabo\n",
      "Processing city #31: huilong\n",
      "Processing city #32: sao joao da barra\n",
      "Processing city #33: college\n",
      "Processing city #34: ancud\n",
      "Processing city #35: aljezur\n",
      "Processing city #36: gondanglegi\n",
      "City #37 Not Found, Skipped\n",
      "Processing city #38: tuktoyaktuk\n",
      "Processing city #39: kovdor\n",
      "Processing city #40: labinsk\n",
      "Processing city #41: miyako\n",
      "Processing city #42: puerto ayora\n",
      "Processing city #43: saldanha\n",
      "Processing city #44: phalaborwa\n",
      "Processing city #45: capao bonito\n",
      "Processing city #46: dikson\n",
      "Processing city #47: provideniya\n",
      "Processing city #48: bluff\n",
      "Processing city #49: clyde river\n",
      "Processing city #50: kapaa\n",
      "Processing city #51: chepareria\n",
      "Processing city #52: cape town\n",
      "Processing city #53: te anau\n",
      "Processing city #54: sorland\n",
      "Processing city #55: naryan-mar\n",
      "Processing city #56: norman wells\n",
      "Processing city #57: marzuq\n",
      "Processing city #58: khuzdar\n",
      "Processing city #59: esso\n",
      "Processing city #60: albany\n",
      "Processing city #61: vaitape\n",
      "Processing city #62: saint-pierre\n",
      "Processing city #63: coihaique\n",
      "Processing city #64: palmdale\n",
      "Processing city #65: northam\n",
      "City #66 Not Found, Skipped\n",
      "Processing city #67: wangou\n",
      "Processing city #68: jamestown\n",
      "Processing city #69: bani\n",
      "Processing city #70: ushuaia\n",
      "Processing city #71: castro\n",
      "Processing city #72: saskylakh\n",
      "Processing city #73: georgetown\n",
      "City #74 Not Found, Skipped\n",
      "Processing city #75: punta arenas\n",
      "Processing city #76: qaanaaq\n",
      "Processing city #77: severo-kurilsk\n",
      "Processing city #78: beira\n",
      "Processing city #79: buraydah\n",
      "Processing city #80: boralday\n",
      "Processing city #81: tokur\n",
      "Processing city #82: hovd\n",
      "Processing city #83: sapulpa\n",
      "Processing city #84: moranbah\n",
      "Processing city #85: muros\n",
      "Processing city #86: taksimo\n",
      "Processing city #87: kindia\n",
      "Processing city #88: khandbari\n",
      "Processing city #89: lebu\n",
      "Processing city #90: polignano a mare\n",
      "Processing city #91: teya\n",
      "Processing city #92: busselton\n",
      "Processing city #93: zyryanka\n",
      "Processing city #94: port alfred\n",
      "Processing city #95: carnarvon\n",
      "Processing city #96: puerto leguizamo\n",
      "Processing city #97: the pas\n",
      "City #98 Not Found, Skipped\n",
      "Processing city #99: broome\n",
      "City #100 Not Found, Skipped\n",
      "City #101 Not Found, Skipped\n",
      "Processing city #102: port macquarie\n",
      "Processing city #103: pisco\n",
      "Processing city #104: bengkulu\n",
      "Processing city #105: saint anthony\n",
      "Processing city #106: olden\n",
      "Processing city #107: katsuura\n",
      "Processing city #108: ayagoz\n",
      "Processing city #109: atambua\n",
      "Processing city #110: barrow\n",
      "Processing city #111: honningsvag\n",
      "Processing city #112: genhe\n",
      "Processing city #113: inyonga\n",
      "Processing city #114: avera\n",
      "Processing city #115: lompoc\n",
      "City #116 Not Found, Skipped\n",
      "Processing city #117: hofn\n",
      "Processing city #118: hermanus\n",
      "Processing city #119: limbang\n",
      "Processing city #120: borogontsy\n",
      "Processing city #121: bambous virieux\n",
      "Processing city #122: tomatlan\n",
      "Processing city #123: narrabri\n",
      "Processing city #124: nyurba\n",
      "Processing city #125: oistins\n",
      "Processing city #126: mitchell\n",
      "Processing city #127: tilichiki\n",
      "Processing city #128: estelle\n",
      "City #129 Not Found, Skipped\n",
      "Processing city #130: worland\n",
      "Processing city #131: port elizabeth\n",
      "City #132 Not Found, Skipped\n",
      "Processing city #133: ipixuna\n",
      "Processing city #134: ahuimanu\n",
      "Processing city #135: isangel\n",
      "Processing city #136: cidreira\n",
      "Processing city #137: caravelas\n",
      "Processing city #138: tasiilaq\n",
      "City #139 Not Found, Skipped\n",
      "Processing city #140: vao\n",
      "Processing city #141: mount isa\n",
      "Processing city #142: liku\n",
      "Processing city #143: east london\n",
      "Processing city #144: nuuk\n",
      "Processing city #145: kaeo\n",
      "Processing city #146: gamba\n",
      "Processing city #147: dunedin\n",
      "Processing city #148: sao filipe\n",
      "Processing city #149: okha\n",
      "Processing city #150: sakaiminato\n",
      "Processing city #151: ponta do sol\n",
      "City #152 Not Found, Skipped\n",
      "Processing city #153: tomohon\n",
      "Processing city #154: brae\n",
      "Processing city #155: zhuhai\n",
      "Processing city #156: narsaq\n",
      "Processing city #157: mandalgovi\n",
      "Processing city #158: lata\n",
      "Processing city #159: lavrentiya\n",
      "Processing city #160: vanderhoof\n",
      "City #161 Not Found, Skipped\n",
      "Processing city #162: half moon bay\n",
      "Processing city #163: vanavara\n",
      "Processing city #164: bredasdorp\n",
      "Processing city #165: yuli\n",
      "Processing city #166: taphan hin\n",
      "Processing city #167: pangnirtung\n",
      "Processing city #168: marawi\n",
      "Processing city #169: butaritari\n",
      "Processing city #170: nizwa\n",
      "Processing city #171: karakulino\n",
      "Processing city #172: carauari\n",
      "Processing city #173: souillac\n",
      "Processing city #174: bethel\n",
      "Processing city #175: carman\n",
      "Processing city #176: chuy\n",
      "Processing city #177: tema\n",
      "Processing city #178: the valley\n",
      "Processing city #179: codrington\n",
      "Processing city #180: jalu\n",
      "Processing city #181: tacuarembo\n",
      "Processing city #182: rawlins\n",
      "City #183 Not Found, Skipped\n",
      "Processing city #184: alofi\n",
      "Processing city #185: yatou\n",
      "City #186 Not Found, Skipped\n",
      "Processing city #187: viedma\n",
      "Processing city #188: shimoda\n",
      "Processing city #189: sur\n",
      "Processing city #190: avarua\n",
      "Processing city #191: kaa-khem\n",
      "Processing city #192: severnoye\n",
      "Processing city #193: cayhagan\n",
      "Processing city #194: khatanga\n",
      "Processing city #195: tuatapere\n",
      "Processing city #196: nagato\n",
      "Processing city #197: chokurdakh\n",
      "Processing city #198: montrose\n",
      "Processing city #199: nizhniy kuranakh\n",
      "Processing city #200: lethem\n",
      "Processing city #201: chapais\n",
      "Processing city #202: sao gabriel da cachoeira\n",
      "City #203 Not Found, Skipped\n",
      "Processing city #204: kaitangata\n",
      "Processing city #205: sabya\n",
      "Processing city #206: bumba\n",
      "Processing city #207: eganville\n",
      "Processing city #208: ukiah\n",
      "Processing city #209: dingle\n",
      "Processing city #210: ust-tsilma\n",
      "Processing city #211: pangkalanbuun\n",
      "Processing city #212: bulgan\n",
      "Processing city #213: mashhad\n",
      "Processing city #214: amapa\n",
      "Processing city #215: naron\n",
      "Processing city #216: pinyug\n",
      "City #217 Not Found, Skipped\n",
      "Processing city #218: luderitz\n",
      "Processing city #219: celestun\n",
      "Processing city #220: lagoa\n",
      "City #221 Not Found, Skipped\n",
      "Processing city #222: dmitrov\n",
      "Processing city #223: torbay\n",
      "Processing city #224: silab\n",
      "Processing city #225: airai\n",
      "Processing city #226: lindas\n",
      "Processing city #227: verkhnevilyuysk\n",
      "Processing city #228: quelimane\n",
      "Processing city #229: port blair\n",
      "Processing city #230: jijiga\n",
      "Processing city #231: cherskiy\n",
      "Processing city #232: tura\n",
      "Processing city #233: ndele\n",
      "Processing city #234: goroka\n",
      "Processing city #235: bandarbeyla\n",
      "Processing city #236: totness\n",
      "Processing city #237: mar del plata\n",
      "Processing city #238: uige\n",
      "Processing city #239: nueve de julio\n",
      "Processing city #240: leningradskiy\n",
      "Processing city #241: shawnee\n",
      "Processing city #242: sitka\n",
      "Processing city #243: margate\n",
      "Processing city #244: shingu\n",
      "Processing city #245: lithgow\n",
      "Processing city #246: mehamn\n",
      "Processing city #247: colares\n",
      "Processing city #248: la gomera\n",
      "Processing city #249: fez\n",
      "Processing city #250: kargil\n",
      "Processing city #251: lipari\n",
      "Processing city #252: fort nelson\n",
      "Processing city #253: mut\n",
      "Processing city #254: pyinmana\n",
      "City #255 Not Found, Skipped\n",
      "Processing city #256: poso\n",
      "Processing city #257: quatre cocos\n",
      "Processing city #258: krapivinskiy\n",
      "Processing city #259: riyadh\n",
      "Processing city #260: ures\n",
      "Processing city #261: utete\n",
      "Processing city #262: teguise\n",
      "Processing city #263: salinopolis\n",
      "Processing city #264: oakdale\n",
      "Processing city #265: nantucket\n",
      "Processing city #266: napanee\n",
      "City #267 Not Found, Skipped\n",
      "Processing city #268: dulce nombre de culmi\n"
     ]
    },
    {
     "name": "stdout",
     "output_type": "stream",
     "text": [
      "Processing city #269: rognan\n",
      "Processing city #270: camapua\n",
      "Processing city #271: kavieng\n",
      "Processing city #272: naze\n",
      "Processing city #273: marystown\n",
      "City #274 Not Found, Skipped\n",
      "City #275 Not Found, Skipped\n",
      "Processing city #276: samarai\n",
      "Processing city #277: great falls\n",
      "Processing city #278: chifeng\n",
      "Processing city #279: krabi\n",
      "Processing city #280: ketchikan\n",
      "Processing city #281: hwange\n",
      "Processing city #282: weligama\n",
      "Processing city #283: lorengau\n",
      "Processing city #284: tinskoy\n",
      "Processing city #285: luanda\n",
      "Processing city #286: katherine\n",
      "Processing city #287: nanortalik\n",
      "Processing city #288: hay river\n",
      "Processing city #289: gorom-gorom\n",
      "Processing city #290: santa fe\n",
      "Processing city #291: seymchan\n",
      "Processing city #292: burnie\n",
      "Processing city #293: wisconsin rapids\n",
      "Processing city #294: taoudenni\n",
      "Processing city #295: guerrero negro\n",
      "Processing city #296: kondinskoye\n",
      "Processing city #297: esperance\n",
      "Processing city #298: nicoya\n",
      "Processing city #299: flin flon\n",
      "Processing city #300: alcaniz\n",
      "Processing city #301: george\n",
      "Processing city #302: rancho palos verdes\n",
      "Processing city #303: oranjemund\n",
      "Processing city #304: luena\n",
      "Processing city #305: port hedland\n",
      "Processing city #306: gloversville\n",
      "Processing city #307: olinda\n",
      "Processing city #308: ola\n",
      "City #309 Not Found, Skipped\n",
      "Processing city #310: kieta\n",
      "Processing city #311: killorglin\n",
      "Processing city #312: axim\n",
      "Processing city #313: chipata\n",
      "Processing city #314: acapulco\n",
      "Processing city #315: victoria\n",
      "Processing city #316: mahajanga\n",
      "Processing city #317: yar-sale\n",
      "Processing city #318: upernavik\n",
      "Processing city #319: manresa\n",
      "Processing city #320: beloha\n",
      "Processing city #321: kedrovyy\n",
      "Processing city #322: kuytun\n",
      "Processing city #323: zhigansk\n",
      "Processing city #324: kudahuvadhoo\n",
      "Processing city #325: auka\n",
      "Processing city #326: hualmay\n",
      "Processing city #327: cabo san lucas\n",
      "Processing city #328: gubkinskiy\n",
      "Processing city #329: kahului\n",
      "Processing city #330: grajau\n",
      "Processing city #331: camacha\n",
      "Processing city #332: tazovskiy\n",
      "Processing city #333: nemuro\n",
      "Processing city #334: svetlogorsk\n",
      "Processing city #335: saint-gabriel\n",
      "Processing city #336: cayenne\n",
      "Processing city #337: griffith\n",
      "Processing city #338: hayden\n",
      "Processing city #339: bella union\n",
      "Processing city #340: gizo\n",
      "Processing city #341: vila velha\n",
      "Processing city #342: xichang\n",
      "Processing city #343: sampit\n",
      "Processing city #344: gushikawa\n",
      "Processing city #345: hamilton\n",
      "Processing city #346: yarega\n",
      "Processing city #347: bandiagara\n",
      "Processing city #348: kahuta\n",
      "City #349 Not Found, Skipped\n",
      "Processing city #350: visby\n",
      "Processing city #351: whitianga\n",
      "Processing city #352: auki\n",
      "City #353 Not Found, Skipped\n",
      "Processing city #354: northview\n",
      "Processing city #355: camana\n",
      "Processing city #356: bilibino\n",
      "Processing city #357: sorong\n",
      "Processing city #358: bulungu\n",
      "Processing city #359: comodoro rivadavia\n",
      "Processing city #360: chengde\n",
      "Processing city #361: siilinjarvi\n",
      "Processing city #362: amazar\n",
      "Processing city #363: plavinas\n",
      "Processing city #364: fortuna\n",
      "Processing city #365: korla\n",
      "Processing city #366: ulladulla\n",
      "Processing city #367: lerwick\n",
      "Processing city #368: sicamous\n",
      "Processing city #369: abu samrah\n",
      "Processing city #370: banff\n",
      "Processing city #371: cassilandia\n",
      "Processing city #372: ambanja\n",
      "Processing city #373: ivanava\n",
      "Processing city #374: kushiro\n",
      "Processing city #375: nassau\n",
      "Processing city #376: kodiak\n",
      "Processing city #377: severo-yeniseyskiy\n",
      "Processing city #378: thompson\n",
      "Processing city #379: yulara\n",
      "Processing city #380: springdale\n",
      "Processing city #381: polunochnoye\n",
      "Processing city #382: laguna\n",
      "Processing city #383: anchorage\n",
      "City #384 Not Found, Skipped\n",
      "Processing city #385: ostrovnoy\n",
      "Processing city #386: kupang\n",
      "Processing city #387: chaman\n",
      "Processing city #388: lakes entrance\n",
      "Processing city #389: sinnamary\n",
      "Processing city #390: salinas\n",
      "City #391 Not Found, Skipped\n",
      "Processing city #392: vianden\n",
      "Processing city #393: hirara\n",
      "Processing city #394: fairbanks\n",
      "Processing city #395: port lincoln\n",
      "City #396 Not Found, Skipped\n",
      "Processing city #397: normandin\n",
      "Processing city #398: itapetininga\n",
      "Processing city #399: longyearbyen\n",
      "Processing city #400: soyo\n",
      "Processing city #401: vanimo\n",
      "Processing city #402: fayaoue\n",
      "Processing city #403: iqaluit\n",
      "Processing city #404: komsomolskiy\n",
      "City #405 Not Found, Skipped\n",
      "Processing city #406: mantua\n",
      "Processing city #407: aksu\n",
      "Processing city #408: promyshlennyy\n",
      "Processing city #409: smithers\n",
      "City #410 Not Found, Skipped\n",
      "Processing city #411: moncao\n",
      "Processing city #412: north platte\n",
      "Processing city #413: abu kamal\n",
      "Processing city #414: pevek\n",
      "Processing city #415: polovinnoye\n",
      "City #416 Not Found, Skipped\n",
      "Processing city #417: ystad\n",
      "Processing city #418: ponta delgada\n",
      "Processing city #419: hami\n",
      "Processing city #420: talnakh\n",
      "Processing city #421: nome\n",
      "Processing city #422: tiarei\n",
      "Processing city #423: atasu\n",
      "City #424 Not Found, Skipped\n",
      "Processing city #425: krasnoselkup\n",
      "Processing city #426: camabatela\n",
      "Processing city #427: san quintin\n",
      "Processing city #428: jaca\n",
      "Processing city #429: porto santo\n",
      "Processing city #430: muroto\n",
      "City #431 Not Found, Skipped\n",
      "Processing city #432: sinegorye\n",
      "Processing city #433: brumado\n",
      "Processing city #434: prince rupert\n",
      "Processing city #435: maicao\n",
      "City #436 Not Found, Skipped\n",
      "Processing city #437: chern\n",
      "Processing city #438: haines junction\n",
      "Processing city #439: pullman\n",
      "Processing city #440: saint-philippe\n",
      "Processing city #441: biograd na moru\n",
      "City #442 Not Found, Skipped\n",
      "City #443 Not Found, Skipped\n",
      "Processing city #444: ilulissat\n",
      "Processing city #445: boende\n",
      "Processing city #446: douentza\n",
      "Processing city #447: kalabo\n",
      "Processing city #448: felipe carrillo puerto\n",
      "Processing city #449: nikki\n",
      "Processing city #450: fullerton\n",
      "Processing city #451: viransehir\n",
      "Processing city #452: balaguer\n",
      "Processing city #453: rio gallegos\n",
      "Processing city #454: latung\n",
      "Processing city #455: kununurra\n",
      "Processing city #456: teahupoo\n",
      "Processing city #457: barcelona\n",
      "Processing city #458: rodrigues alves\n",
      "Processing city #459: grindavik\n",
      "Processing city #460: trat\n",
      "Processing city #461: toronto\n",
      "Processing city #462: dombarovskiy\n",
      "Processing city #463: osmena\n",
      "Processing city #464: mayya\n",
      "Processing city #465: salina cruz\n",
      "Processing city #466: pendleton\n",
      "Processing city #467: road town\n",
      "City #468 Not Found, Skipped\n",
      "Processing city #469: nelson bay\n",
      "Processing city #470: bojnurd\n",
      "Processing city #471: bilma\n",
      "Processing city #472: la massana\n",
      "Processing city #473: nisia floresta\n",
      "Processing city #474: bonga\n",
      "City #475 Not Found, Skipped\n",
      "Processing city #476: kawalu\n",
      "Processing city #477: turukhansk\n",
      "Processing city #478: pahrump\n",
      "City #479 Not Found, Skipped\n",
      "Processing city #480: uthai thani\n",
      "City #481 Not Found, Skipped\n",
      "Processing city #482: maua\n",
      "Processing city #483: yarim\n",
      "Processing city #484: barquisimeto\n",
      "Processing city #485: geraldton\n",
      "Processing city #486: poya\n",
      "Processing city #487: emilio carranza\n",
      "Processing city #488: sotnikovskoye\n",
      "City #489 Not Found, Skipped\n",
      "Processing city #490: saint-francois\n",
      "Processing city #491: dzhebariki-khaya\n",
      "Processing city #492: saint-georges\n",
      "Processing city #493: itapui\n",
      "City #494 Not Found, Skipped\n",
      "Processing city #495: vardo\n",
      "Processing city #496: kenai\n",
      "Processing city #497: plouzane\n",
      "Processing city #498: hulan\n",
      "Processing city #499: golden gate\n",
      "Processing city #500: vavoua\n",
      "Processing city #501: weihe\n",
      "Processing city #502: los llanos de aridane\n",
      "Processing city #503: kolpny\n",
      "Processing city #504: ardakan\n",
      "Processing city #505: praya\n",
      "Processing city #506: kruisfontein\n",
      "Processing city #507: aklavik\n",
      "Processing city #508: kuybyshevo\n",
      "Processing city #509: troitskoye\n",
      "Processing city #510: mayakonda\n",
      "Processing city #511: burgeo\n",
      "Processing city #512: lososina\n",
      "Processing city #513: kalamazoo\n",
      "Processing city #514: lovington\n",
      "Processing city #515: ozernovskiy\n",
      "Processing city #516: mackenzie\n",
      "Processing city #517: tommot\n",
      "City #518 Not Found, Skipped\n",
      "City #519 Not Found, Skipped\n",
      "Processing city #520: beringovskiy\n",
      "Processing city #521: bollnas\n",
      "Processing city #522: takoradi\n",
      "Processing city #523: okitipupa\n",
      "Processing city #524: zonguldak\n",
      "Processing city #525: mattru\n",
      "Processing city #526: leshukonskoye\n",
      "Processing city #527: shelburne\n",
      "Processing city #528: rawson\n",
      "Processing city #529: albury\n",
      "Processing city #530: tautira\n",
      "Processing city #531: paamiut\n"
     ]
    },
    {
     "name": "stdout",
     "output_type": "stream",
     "text": [
      "Processing city #532: darab\n",
      "Processing city #533: rocha\n",
      "Processing city #534: fairmont\n",
      "Processing city #535: kandrian\n",
      "Processing city #536: port moresby\n",
      "Processing city #537: chernyshevsk\n",
      "Processing city #538: nantes\n",
      "Processing city #539: carberry\n",
      "Processing city #540: livingstone\n",
      "Processing city #541: fairlie\n",
      "Processing city #542: skeldon\n",
      "Processing city #543: bathsheba\n",
      "Processing city #544: inhambane\n",
      "City #545 Not Found, Skipped\n",
      "Processing city #546: huarmey\n",
      "Processing city #547: santa maria\n",
      "Processing city #548: nouadhibou\n",
      "Processing city #549: kibre mengist\n",
      "Processing city #550: tongliao\n",
      "Processing city #551: jonesboro\n",
      "Processing city #552: loukhi\n",
      "Processing city #553: bowen\n",
      "City #554 Not Found, Skipped\n",
      "Processing city #555: coquimbo\n",
      "Processing city #556: tanete\n",
      "Processing city #557: roanoke rapids\n",
      "Processing city #558: roura\n",
      "Processing city #559: taikang\n",
      "Processing city #560: bo rai\n",
      "Processing city #561: santa cruz\n",
      "Processing city #562: dandong\n",
      "Processing city #563: ladovskaya balka\n",
      "Processing city #564: teknaf\n",
      "Processing city #565: raudeberg\n",
      "Processing city #566: khujner\n",
      "Processing city #567: oga\n",
      "Processing city #568: peniche\n",
      "Processing city #569: luba\n",
      "Processing city #570: kosh-agach\n",
      "Processing city #571: pauini\n",
      "Processing city #572: kattivakkam\n",
      "Processing city #573: panaba\n",
      "Processing city #574: burlington\n",
      "Processing city #575: madang\n",
      "City #576 Not Found, Skipped\n",
      "Processing city #577: east valencia\n",
      "Processing city #578: villarrobledo\n",
      "Processing city #579: masallatah\n",
      "Processing city #580: harper\n",
      "Processing city #581: uchiza\n",
      "Processing city #582: ekibastuz\n",
      "Processing city #583: ustikolina\n",
      "Processing city #584: santa luzia\n",
      "Processing city #585: tsotilion\n",
      "Processing city #586: bugama\n",
      "Processing city #587: izoplit\n",
      "Processing city #588: churapcha\n",
      "Processing city #589: wewak\n",
      "Processing city #590: neon monastirion\n",
      "Processing city #591: olafsvik\n",
      "Processing city #592: manbij\n",
      "Processing city #593: kidal\n",
      "Processing city #594: zelenets\n",
      "Processing city #595: russell\n",
      "Processing city #596: faanui\n",
      "Processing city #597: lieksa\n",
      "Processing city #598: mikun\n",
      "Processing city #599: tiksi\n",
      "Processing city #600: ranau\n",
      "Processing city #601: mareeba\n",
      "Processing city #602: qaqortoq\n",
      "Processing city #603: merauke\n",
      "Processing city #604: tawang\n",
      "Processing city #605: jiaohe\n",
      "Processing city #606: faya\n",
      "Processing city #607: mbandaka\n",
      "Processing city #608: strezhevoy\n",
      "Processing city #609: utrecht\n",
      "Processing city #610: xam nua\n",
      "Processing city #611: sangar\n",
      "Processing city #612: great yarmouth\n",
      "Processing city #613: vilhena\n",
      "Processing city #614: puerto escondido\n",
      "Processing city #615: havoysund\n",
      "Processing city #616: richards bay\n",
      "Processing city #617: nyagan\n",
      "Processing city #618: shibata\n",
      "Processing city #619: matay\n",
      "Processing city #620: constitucion\n",
      "Processing city #621: santa isabel do rio negro\n"
     ]
    }
   ],
   "source": [
    "# Base URL\n",
    "b_url=\"http://api.openweathermap.org/data/2.5/weather?appid=\"+weather_api_key+ \"&units=imperial&q=\"\n",
    "\n",
    "# Set up lists for response\n",
    "cities_found=[]\n",
    "lat=[]\n",
    "lng=[]\n",
    "temp=[]\n",
    "hum=[]\n",
    "cloud=[]\n",
    "wind=[]\n",
    "country=[]\n",
    "date=[]\n",
    "\n",
    "print(\"Beginning Data Retrieval\")\n",
    "print(\"-----------------------------\")\n",
    "\n",
    "for each_city in cities:\n",
    "    ind=cities.index(each_city)+1\n",
    "    url=b_url+each_city\n",
    "    response=requests.get(url).json()\n",
    "    try:\n",
    "        lat.append(response['coord']['lat'])\n",
    "        lng.append(response['coord']['lon'])\n",
    "        temp.append(response['main']['temp_max'])\n",
    "        hum.append(response['main']['humidity'])\n",
    "        cloud.append(response['clouds']['all'])\n",
    "        wind.append(response['wind']['speed'])\n",
    "        country.append(response['sys']['country'])\n",
    "        date.append(response['dt'])\n",
    "        cities_found.append(response['name'])\n",
    "        print(f\"Processing city #{ind}: {each_city}\")\n",
    "    except:\n",
    "        print(f\"City #{ind} Not Found, Skipped\")\n",
    "#   Wait 1 second before next API call\n",
    "    time.sleep(1)\n",
    "print(\"Data Retrieval Completed\")"
   ]
  },
  {
   "cell_type": "markdown",
   "metadata": {},
   "source": [
    "### Convert Raw Data to DataFrame\n",
    "* Export the city data into a .csv.\n",
    "* Display the DataFrame"
   ]
  },
  {
   "cell_type": "code",
   "execution_count": 55,
   "metadata": {},
   "outputs": [
    {
     "data": {
      "text/html": [
       "<div>\n",
       "<style scoped>\n",
       "    .dataframe tbody tr th:only-of-type {\n",
       "        vertical-align: middle;\n",
       "    }\n",
       "\n",
       "    .dataframe tbody tr th {\n",
       "        vertical-align: top;\n",
       "    }\n",
       "\n",
       "    .dataframe thead th {\n",
       "        text-align: right;\n",
       "    }\n",
       "</style>\n",
       "<table border=\"1\" class=\"dataframe\">\n",
       "  <thead>\n",
       "    <tr style=\"text-align: right;\">\n",
       "      <th></th>\n",
       "      <th>City</th>\n",
       "      <th>Lat</th>\n",
       "      <th>Lng</th>\n",
       "      <th>Max Temp</th>\n",
       "      <th>Humidity</th>\n",
       "      <th>Cloudiness</th>\n",
       "      <th>Wind Speed</th>\n",
       "      <th>Country</th>\n",
       "      <th>Date</th>\n",
       "    </tr>\n",
       "  </thead>\n",
       "  <tbody>\n",
       "    <tr>\n",
       "      <th>0</th>\n",
       "      <td>New Norfolk</td>\n",
       "      <td>-42.7826</td>\n",
       "      <td>147.0587</td>\n",
       "      <td>58.50</td>\n",
       "      <td>69</td>\n",
       "      <td>94</td>\n",
       "      <td>4.00</td>\n",
       "      <td>AU</td>\n",
       "      <td>1627433079</td>\n",
       "    </tr>\n",
       "    <tr>\n",
       "      <th>1</th>\n",
       "      <td>San Cristobal</td>\n",
       "      <td>7.7669</td>\n",
       "      <td>-72.2250</td>\n",
       "      <td>73.58</td>\n",
       "      <td>95</td>\n",
       "      <td>25</td>\n",
       "      <td>1.50</td>\n",
       "      <td>VE</td>\n",
       "      <td>1627433155</td>\n",
       "    </tr>\n",
       "    <tr>\n",
       "      <th>2</th>\n",
       "      <td>Nikolskoye</td>\n",
       "      <td>59.7035</td>\n",
       "      <td>30.7861</td>\n",
       "      <td>65.01</td>\n",
       "      <td>67</td>\n",
       "      <td>100</td>\n",
       "      <td>4.65</td>\n",
       "      <td>RU</td>\n",
       "      <td>1627433197</td>\n",
       "    </tr>\n",
       "    <tr>\n",
       "      <th>3</th>\n",
       "      <td>Rio Grande</td>\n",
       "      <td>-32.0350</td>\n",
       "      <td>-52.0986</td>\n",
       "      <td>41.95</td>\n",
       "      <td>62</td>\n",
       "      <td>5</td>\n",
       "      <td>20.40</td>\n",
       "      <td>BR</td>\n",
       "      <td>1627433604</td>\n",
       "    </tr>\n",
       "    <tr>\n",
       "      <th>4</th>\n",
       "      <td>Sibolga</td>\n",
       "      <td>1.7427</td>\n",
       "      <td>98.7792</td>\n",
       "      <td>78.42</td>\n",
       "      <td>86</td>\n",
       "      <td>52</td>\n",
       "      <td>2.24</td>\n",
       "      <td>ID</td>\n",
       "      <td>1627433605</td>\n",
       "    </tr>\n",
       "    <tr>\n",
       "      <th>...</th>\n",
       "      <td>...</td>\n",
       "      <td>...</td>\n",
       "      <td>...</td>\n",
       "      <td>...</td>\n",
       "      <td>...</td>\n",
       "      <td>...</td>\n",
       "      <td>...</td>\n",
       "      <td>...</td>\n",
       "      <td>...</td>\n",
       "    </tr>\n",
       "    <tr>\n",
       "      <th>566</th>\n",
       "      <td>Nyagan</td>\n",
       "      <td>62.1406</td>\n",
       "      <td>65.3936</td>\n",
       "      <td>45.23</td>\n",
       "      <td>76</td>\n",
       "      <td>23</td>\n",
       "      <td>5.84</td>\n",
       "      <td>RU</td>\n",
       "      <td>1627434322</td>\n",
       "    </tr>\n",
       "    <tr>\n",
       "      <th>567</th>\n",
       "      <td>Shibata</td>\n",
       "      <td>37.9500</td>\n",
       "      <td>139.3333</td>\n",
       "      <td>78.08</td>\n",
       "      <td>86</td>\n",
       "      <td>76</td>\n",
       "      <td>7.58</td>\n",
       "      <td>JP</td>\n",
       "      <td>1627434324</td>\n",
       "    </tr>\n",
       "    <tr>\n",
       "      <th>568</th>\n",
       "      <td>Maţāy</td>\n",
       "      <td>28.4190</td>\n",
       "      <td>30.7792</td>\n",
       "      <td>79.02</td>\n",
       "      <td>48</td>\n",
       "      <td>0</td>\n",
       "      <td>15.61</td>\n",
       "      <td>EG</td>\n",
       "      <td>1627434325</td>\n",
       "    </tr>\n",
       "    <tr>\n",
       "      <th>569</th>\n",
       "      <td>Constitución</td>\n",
       "      <td>-35.3333</td>\n",
       "      <td>-72.4167</td>\n",
       "      <td>45.63</td>\n",
       "      <td>75</td>\n",
       "      <td>0</td>\n",
       "      <td>7.14</td>\n",
       "      <td>CL</td>\n",
       "      <td>1627434326</td>\n",
       "    </tr>\n",
       "    <tr>\n",
       "      <th>570</th>\n",
       "      <td>Santa Isabel Rio Negro</td>\n",
       "      <td>-0.4139</td>\n",
       "      <td>-65.0192</td>\n",
       "      <td>74.30</td>\n",
       "      <td>93</td>\n",
       "      <td>92</td>\n",
       "      <td>2.75</td>\n",
       "      <td>BR</td>\n",
       "      <td>1627434327</td>\n",
       "    </tr>\n",
       "  </tbody>\n",
       "</table>\n",
       "<p>571 rows × 9 columns</p>\n",
       "</div>"
      ],
      "text/plain": [
       "                       City      Lat       Lng  Max Temp  Humidity  \\\n",
       "0               New Norfolk -42.7826  147.0587     58.50        69   \n",
       "1             San Cristobal   7.7669  -72.2250     73.58        95   \n",
       "2                Nikolskoye  59.7035   30.7861     65.01        67   \n",
       "3                Rio Grande -32.0350  -52.0986     41.95        62   \n",
       "4                   Sibolga   1.7427   98.7792     78.42        86   \n",
       "..                      ...      ...       ...       ...       ...   \n",
       "566                  Nyagan  62.1406   65.3936     45.23        76   \n",
       "567                 Shibata  37.9500  139.3333     78.08        86   \n",
       "568                   Maţāy  28.4190   30.7792     79.02        48   \n",
       "569            Constitución -35.3333  -72.4167     45.63        75   \n",
       "570  Santa Isabel Rio Negro  -0.4139  -65.0192     74.30        93   \n",
       "\n",
       "     Cloudiness  Wind Speed Country        Date  \n",
       "0            94        4.00      AU  1627433079  \n",
       "1            25        1.50      VE  1627433155  \n",
       "2           100        4.65      RU  1627433197  \n",
       "3             5       20.40      BR  1627433604  \n",
       "4            52        2.24      ID  1627433605  \n",
       "..          ...         ...     ...         ...  \n",
       "566          23        5.84      RU  1627434322  \n",
       "567          76        7.58      JP  1627434324  \n",
       "568           0       15.61      EG  1627434325  \n",
       "569           0        7.14      CL  1627434326  \n",
       "570          92        2.75      BR  1627434327  \n",
       "\n",
       "[571 rows x 9 columns]"
      ]
     },
     "execution_count": 55,
     "metadata": {},
     "output_type": "execute_result"
    }
   ],
   "source": [
    "weather_dict = {\n",
    "    \"City\": cities_found,\n",
    "    \"Lat\":lat,\n",
    "    \"Lng\":lng,\n",
    "    \"Max Temp\":temp,\n",
    "    \"Humidity\":hum,\n",
    "    \"Cloudiness\":cloud,\n",
    "    \"Wind Speed\":wind,\n",
    "    \"Country\":country,\n",
    "    \"Date\":date\n",
    "}\n",
    "# Convert to DataFrame and output to CSV file\n",
    "weather_data = pd.DataFrame(weather_dict)\n",
    "weather_data.to_csv(output_data_file)\n",
    "weather_data"
   ]
  },
  {
   "cell_type": "code",
   "execution_count": 56,
   "metadata": {},
   "outputs": [
    {
     "data": {
      "text/html": [
       "<div>\n",
       "<style scoped>\n",
       "    .dataframe tbody tr th:only-of-type {\n",
       "        vertical-align: middle;\n",
       "    }\n",
       "\n",
       "    .dataframe tbody tr th {\n",
       "        vertical-align: top;\n",
       "    }\n",
       "\n",
       "    .dataframe thead th {\n",
       "        text-align: right;\n",
       "    }\n",
       "</style>\n",
       "<table border=\"1\" class=\"dataframe\">\n",
       "  <thead>\n",
       "    <tr style=\"text-align: right;\">\n",
       "      <th></th>\n",
       "      <th>Lat</th>\n",
       "      <th>Lng</th>\n",
       "      <th>Max Temp</th>\n",
       "      <th>Humidity</th>\n",
       "      <th>Cloudiness</th>\n",
       "      <th>Wind Speed</th>\n",
       "      <th>Date</th>\n",
       "    </tr>\n",
       "  </thead>\n",
       "  <tbody>\n",
       "    <tr>\n",
       "      <th>count</th>\n",
       "      <td>571.000000</td>\n",
       "      <td>571.000000</td>\n",
       "      <td>571.000000</td>\n",
       "      <td>571.000000</td>\n",
       "      <td>571.000000</td>\n",
       "      <td>571.000000</td>\n",
       "      <td>5.710000e+02</td>\n",
       "    </tr>\n",
       "    <tr>\n",
       "      <th>mean</th>\n",
       "      <td>22.901066</td>\n",
       "      <td>16.240344</td>\n",
       "      <td>69.129825</td>\n",
       "      <td>71.472855</td>\n",
       "      <td>55.618214</td>\n",
       "      <td>7.493485</td>\n",
       "      <td>1.627434e+09</td>\n",
       "    </tr>\n",
       "    <tr>\n",
       "      <th>std</th>\n",
       "      <td>33.339313</td>\n",
       "      <td>92.211752</td>\n",
       "      <td>14.035912</td>\n",
       "      <td>19.500172</td>\n",
       "      <td>40.724034</td>\n",
       "      <td>5.309029</td>\n",
       "      <td>3.244093e+02</td>\n",
       "    </tr>\n",
       "    <tr>\n",
       "      <th>min</th>\n",
       "      <td>-54.800000</td>\n",
       "      <td>-175.200000</td>\n",
       "      <td>33.930000</td>\n",
       "      <td>9.000000</td>\n",
       "      <td>0.000000</td>\n",
       "      <td>0.000000</td>\n",
       "      <td>1.627433e+09</td>\n",
       "    </tr>\n",
       "    <tr>\n",
       "      <th>25%</th>\n",
       "      <td>-4.716400</td>\n",
       "      <td>-65.060750</td>\n",
       "      <td>59.655000</td>\n",
       "      <td>61.000000</td>\n",
       "      <td>9.500000</td>\n",
       "      <td>3.440000</td>\n",
       "      <td>1.627434e+09</td>\n",
       "    </tr>\n",
       "    <tr>\n",
       "      <th>50%</th>\n",
       "      <td>32.310000</td>\n",
       "      <td>18.600000</td>\n",
       "      <td>70.540000</td>\n",
       "      <td>74.000000</td>\n",
       "      <td>69.000000</td>\n",
       "      <td>6.170000</td>\n",
       "      <td>1.627434e+09</td>\n",
       "    </tr>\n",
       "    <tr>\n",
       "      <th>75%</th>\n",
       "      <td>50.771000</td>\n",
       "      <td>99.942700</td>\n",
       "      <td>80.585000</td>\n",
       "      <td>86.000000</td>\n",
       "      <td>99.000000</td>\n",
       "      <td>10.250000</td>\n",
       "      <td>1.627434e+09</td>\n",
       "    </tr>\n",
       "    <tr>\n",
       "      <th>max</th>\n",
       "      <td>78.218600</td>\n",
       "      <td>179.316700</td>\n",
       "      <td>102.340000</td>\n",
       "      <td>100.000000</td>\n",
       "      <td>100.000000</td>\n",
       "      <td>28.810000</td>\n",
       "      <td>1.627434e+09</td>\n",
       "    </tr>\n",
       "  </tbody>\n",
       "</table>\n",
       "</div>"
      ],
      "text/plain": [
       "              Lat         Lng    Max Temp    Humidity  Cloudiness  Wind Speed  \\\n",
       "count  571.000000  571.000000  571.000000  571.000000  571.000000  571.000000   \n",
       "mean    22.901066   16.240344   69.129825   71.472855   55.618214    7.493485   \n",
       "std     33.339313   92.211752   14.035912   19.500172   40.724034    5.309029   \n",
       "min    -54.800000 -175.200000   33.930000    9.000000    0.000000    0.000000   \n",
       "25%     -4.716400  -65.060750   59.655000   61.000000    9.500000    3.440000   \n",
       "50%     32.310000   18.600000   70.540000   74.000000   69.000000    6.170000   \n",
       "75%     50.771000   99.942700   80.585000   86.000000   99.000000   10.250000   \n",
       "max     78.218600  179.316700  102.340000  100.000000  100.000000   28.810000   \n",
       "\n",
       "               Date  \n",
       "count  5.710000e+02  \n",
       "mean   1.627434e+09  \n",
       "std    3.244093e+02  \n",
       "min    1.627433e+09  \n",
       "25%    1.627434e+09  \n",
       "50%    1.627434e+09  \n",
       "75%    1.627434e+09  \n",
       "max    1.627434e+09  "
      ]
     },
     "execution_count": 56,
     "metadata": {},
     "output_type": "execute_result"
    }
   ],
   "source": [
    "weather_data.describe()"
   ]
  },
  {
   "cell_type": "markdown",
   "metadata": {},
   "source": [
    "## Inspect the data and remove the cities where the humidity > 100%.\n",
    "----\n",
    "Skip this step if there are no cities that have humidity > 100%. "
   ]
  },
  {
   "cell_type": "code",
   "execution_count": 57,
   "metadata": {},
   "outputs": [],
   "source": [
    "# Get the indices of cities that have humidity over 100%.\n",
    "# Make a new DataFrame equal to the city data to drop all humidity outliers by index.\n",
    "# Passing \"inplace=False\" will make a copy of the city_data DataFrame, which we call \"clean_city_data\".\n",
    "# if weather_data[\"Humidity\"].max()>100:\n",
    "    "
   ]
  },
  {
   "cell_type": "code",
   "execution_count": null,
   "metadata": {},
   "outputs": [],
   "source": [
    "\n"
   ]
  },
  {
   "cell_type": "markdown",
   "metadata": {},
   "source": [
    "## Plotting the Data\n",
    "* Use proper labeling of the plots using plot titles (including date of analysis) and axes labels.\n",
    "* Save the plotted figures as .pngs."
   ]
  },
  {
   "cell_type": "markdown",
   "metadata": {},
   "source": [
    "## Latitude vs. Temperature Plot"
   ]
  },
  {
   "cell_type": "code",
   "execution_count": 58,
   "metadata": {
    "scrolled": true
   },
   "outputs": [
    {
     "data": {
      "image/png": "[encoded data removed]",
      "text/plain": [
       "<Figure size 432x288 with 1 Axes>"
      ]
     },
     "metadata": {
      "needs_background": "light"
     },
     "output_type": "display_data"
    },
    {
     "name": "stdout",
     "output_type": "stream",
     "text": [
      "The scatter plot above shows that max temperatures peak at around 30 degrees latitude.\n"
     ]
    }
   ],
   "source": [
    "xvals=weather_data['Lat']\n",
    "yvals=weather_data['Max Temp']\n",
    "plt.scatter(xvals,yvals)\n",
    "plt.title('City Latitude vs. Max Temperature')\n",
    "plt.xlabel('Latitude')\n",
    "plt.ylabel('Max Temperature (F)')\n",
    "plt.savefig(\"../output_data/LatTemp.png\")\n",
    "\n",
    "plt.show()\n",
    "print(f\"The scatter plot above shows that max temperatures peak at around 30 degrees latitude.\")"
   ]
  },
  {
   "cell_type": "markdown",
   "metadata": {},
   "source": [
    "## Latitude vs. Humidity Plot"
   ]
  },
  {
   "cell_type": "code",
   "execution_count": 59,
   "metadata": {},
   "outputs": [
    {
     "data": {
      "image/png": "[encoded data removed]",
      "text/plain": [
       "<Figure size 432x288 with 1 Axes>"
      ]
     },
     "metadata": {
      "needs_background": "light"
     },
     "output_type": "display_data"
    },
    {
     "name": "stdout",
     "output_type": "stream",
     "text": [
      "The scatter plot above shows that most cities have more than 50% humidity.\n"
     ]
    }
   ],
   "source": [
    "xvals=weather_data['Lat']\n",
    "yvals=weather_data['Humidity']\n",
    "plt.scatter(xvals,yvals)\n",
    "plt.title('City Latitude vs. Humidity')\n",
    "plt.xlabel('Latitude')\n",
    "plt.ylabel('Humidity (%)')\n",
    "plt.savefig(\"../output_data/LatHumidity.png\")\n",
    "\n",
    "plt.show()\n",
    "print(f\"The scatter plot above shows that most cities have more than 50% humidity.\")"
   ]
  },
  {
   "cell_type": "markdown",
   "metadata": {},
   "source": [
    "## Latitude vs. Cloudiness Plot"
   ]
  },
  {
   "cell_type": "code",
   "execution_count": 60,
   "metadata": {},
   "outputs": [
    {
     "data": {
      "image/png": "[encoded data removed]",
      "text/plain": [
       "<Figure size 432x288 with 1 Axes>"
      ]
     },
     "metadata": {
      "needs_background": "light"
     },
     "output_type": "display_data"
    },
    {
     "name": "stdout",
     "output_type": "stream",
     "text": [
      "The scatter plot above shows no observable trends between latitude and cloudiness.\n"
     ]
    }
   ],
   "source": [
    "xvals=weather_data['Lat']\n",
    "yvals=weather_data['Cloudiness']\n",
    "plt.scatter(xvals,yvals)\n",
    "plt.title('City Latitude vs. Cloudiness')\n",
    "plt.xlabel('Latitude')\n",
    "plt.ylabel('Cloudiness (%)')\n",
    "plt.savefig(\"../output_data/LatCloudiness.png\")\n",
    "\n",
    "plt.show()\n",
    "print(f\"The scatter plot above shows no observable trends between latitude and cloudiness.\")"
   ]
  },
  {
   "cell_type": "markdown",
   "metadata": {},
   "source": [
    "## Latitude vs. Wind Speed Plot"
   ]
  },
  {
   "cell_type": "code",
   "execution_count": 61,
   "metadata": {},
   "outputs": [
    {
     "data": {
      "image/png": "[encoded data removed]",
      "text/plain": [
       "<Figure size 432x288 with 1 Axes>"
      ]
     },
     "metadata": {
      "needs_background": "light"
     },
     "output_type": "display_data"
    },
    {
     "name": "stdout",
     "output_type": "stream",
     "text": [
      "The scatter plot above shows that most cites have wind speeds under 15 MPH.\n"
     ]
    }
   ],
   "source": [
    "xvals=weather_data['Lat']\n",
    "yvals=weather_data['Wind Speed']\n",
    "plt.scatter(xvals,yvals)\n",
    "plt.title('City Latitude vs. Wind Speed')\n",
    "plt.xlabel('Latitude')\n",
    "plt.ylabel('Wind Speed (mph)')\n",
    "plt.savefig(\"../output_data/LatWind.png\")\n",
    "\n",
    "plt.show()\n",
    "print(f\"The scatter plot above shows that most cites have wind speeds under 15 MPH.\")"
   ]
  },
  {
   "cell_type": "markdown",
   "metadata": {},
   "source": [
    "## Linear Regression"
   ]
  },
  {
   "cell_type": "code",
   "execution_count": 62,
   "metadata": {},
   "outputs": [],
   "source": [
    "n_weather_data=weather_data[weather_data['Lat']>=0]\n",
    "s_weather_data=weather_data[weather_data['Lat']<0]"
   ]
  },
  {
   "cell_type": "markdown",
   "metadata": {},
   "source": [
    "####  Northern Hemisphere - Max Temp vs. Latitude Linear Regression"
   ]
  },
  {
   "cell_type": "code",
   "execution_count": 63,
   "metadata": {},
   "outputs": [
    {
     "data": {
      "image/png": "[encoded data removed]",
      "text/plain": [
       "<Figure size 432x288 with 1 Axes>"
      ]
     },
     "metadata": {
      "needs_background": "light"
     },
     "output_type": "display_data"
    },
    {
     "name": "stdout",
     "output_type": "stream",
     "text": [
      "y = -0.44x + 89\n"
     ]
    }
   ],
   "source": [
    "xvals=n_weather_data['Lat']\n",
    "yvals=n_weather_data['Max Temp']\n",
    "\n",
    "(slope, intercept, rvalue, pvalue, stderr)=stats.linregress(xvals,yvals)\n",
    "regressvals=xvals*slope + intercept\n",
    "line_eq=f'y = {round(slope,2)}x + {round(intercept)}'\n",
    "\n",
    "plt.scatter(xvals,yvals)\n",
    "plt.plot(xvals, regressvals,\"r-\")\n",
    "plt.title('N. Hemisphere: City Latitude vs. Max Temperature')\n",
    "plt.xlabel('Latitude')\n",
    "plt.ylabel('Max Temperature (F)')\n",
    "\n",
    "plt.savefig(\"../output_data/Regress_N_LatTemp.png\")\n",
    "\n",
    "plt.show()\n",
    "print(line_eq)"
   ]
  },
  {
   "cell_type": "markdown",
   "metadata": {},
   "source": [
    "####  Southern Hemisphere - Max Temp vs. Latitude Linear Regression"
   ]
  },
  {
   "cell_type": "code",
   "execution_count": 64,
   "metadata": {},
   "outputs": [
    {
     "data": {
      "image/png": "[encoded data removed]",
      "text/plain": [
       "<Figure size 432x288 with 1 Axes>"
      ]
     },
     "metadata": {
      "needs_background": "light"
     },
     "output_type": "display_data"
    },
    {
     "name": "stdout",
     "output_type": "stream",
     "text": [
      "y = 0.72x + 80\n"
     ]
    }
   ],
   "source": [
    "xvals=s_weather_data['Lat']\n",
    "yvals=s_weather_data['Max Temp']\n",
    "\n",
    "(slope, intercept, rvalue, pvalue, stderr)=stats.linregress(xvals,yvals)\n",
    "regressvals=xvals*slope + intercept\n",
    "line_eq=f'y = {round(slope,2)}x + {round(intercept)}'\n",
    "\n",
    "plt.scatter(xvals,yvals)\n",
    "plt.plot(xvals, regressvals,\"r-\")\n",
    "plt.title('S. Hemisphere: City Latitude vs. Max Temperature')\n",
    "plt.xlabel('Latitude')\n",
    "plt.ylabel('Max Temperature (F)')\n",
    "\n",
    "plt.savefig(\"../output_data/Regress_S_LatTemp.png\")\n",
    "\n",
    "plt.show()\n",
    "print(line_eq)"
   ]
  },
  {
   "cell_type": "markdown",
   "metadata": {},
   "source": [
    "####  Northern Hemisphere - Humidity (%) vs. Latitude Linear Regression"
   ]
  },
  {
   "cell_type": "code",
   "execution_count": 65,
   "metadata": {},
   "outputs": [
    {
     "data": {
      "image/png": "[encoded data removed]",
      "text/plain": [
       "<Figure size 432x288 with 1 Axes>"
      ]
     },
     "metadata": {
      "needs_background": "light"
     },
     "output_type": "display_data"
    },
    {
     "name": "stdout",
     "output_type": "stream",
     "text": [
      "y = -0.04x + 73\n"
     ]
    }
   ],
   "source": [
    "xvals=n_weather_data['Lat']\n",
    "yvals=n_weather_data['Humidity']\n",
    "\n",
    "(slope, intercept, rvalue, pvalue, stderr)=stats.linregress(xvals,yvals)\n",
    "regressvals=xvals*slope + intercept\n",
    "line_eq=f'y = {round(slope,2)}x + {round(intercept)}'\n",
    "\n",
    "plt.scatter(xvals,yvals)\n",
    "plt.plot(xvals, regressvals,\"r-\")\n",
    "plt.title('N. Hemisphere: City Latitude vs. Humidity')\n",
    "plt.xlabel('Latitude')\n",
    "plt.ylabel('Humidity (%)')\n",
    "\n",
    "plt.savefig(\"../output_data/Regress_N_LatHumidity.png\")\n",
    "\n",
    "plt.show()\n",
    "print(line_eq)"
   ]
  },
  {
   "cell_type": "markdown",
   "metadata": {},
   "source": [
    "####  Southern Hemisphere - Humidity (%) vs. Latitude Linear Regression"
   ]
  },
  {
   "cell_type": "code",
   "execution_count": 66,
   "metadata": {},
   "outputs": [
    {
     "data": {
      "image/png": "[encoded data removed]",
      "text/plain": [
       "<Figure size 432x288 with 1 Axes>"
      ]
     },
     "metadata": {
      "needs_background": "light"
     },
     "output_type": "display_data"
    },
    {
     "name": "stdout",
     "output_type": "stream",
     "text": [
      "y = 0.04x + 72\n"
     ]
    }
   ],
   "source": [
    "xvals=s_weather_data['Lat']\n",
    "yvals=s_weather_data['Humidity']\n",
    "\n",
    "(slope, intercept, rvalue, pvalue, stderr)=stats.linregress(xvals,yvals)\n",
    "regressvals=xvals*slope + intercept\n",
    "line_eq=f'y = {round(slope,2)}x + {round(intercept)}'\n",
    "\n",
    "plt.scatter(xvals,yvals)\n",
    "plt.plot(xvals, regressvals,\"r-\")\n",
    "plt.title('S. Hemisphere: City Latitude vs. Humidity')\n",
    "plt.xlabel('Latitude')\n",
    "plt.ylabel('Humidity (%)')\n",
    "\n",
    "plt.savefig(\"../output_data/Regress_S_LatHumidity.png\")\n",
    "\n",
    "plt.show()\n",
    "print(line_eq)"
   ]
  },
  {
   "cell_type": "markdown",
   "metadata": {},
   "source": [
    "####  Northern Hemisphere - Cloudiness (%) vs. Latitude Linear Regression"
   ]
  },
  {
   "cell_type": "code",
   "execution_count": 67,
   "metadata": {},
   "outputs": [
    {
     "data": {
      "image/png": "[encoded data removed]",
      "text/plain": [
       "<Figure size 432x288 with 1 Axes>"
      ]
     },
     "metadata": {
      "needs_background": "light"
     },
     "output_type": "display_data"
    },
    {
     "name": "stdout",
     "output_type": "stream",
     "text": [
      "y = 0.11x + 55\n"
     ]
    }
   ],
   "source": [
    "xvals=n_weather_data['Lat']\n",
    "yvals=n_weather_data['Cloudiness']\n",
    "\n",
    "(slope, intercept, rvalue, pvalue, stderr)=stats.linregress(xvals,yvals)\n",
    "regressvals=xvals*slope + intercept\n",
    "line_eq=f'y = {round(slope,2)}x + {round(intercept)}'\n",
    "\n",
    "plt.scatter(xvals,yvals)\n",
    "plt.plot(xvals, regressvals,\"r-\")\n",
    "plt.title('N. Hemisphere: City Latitude vs. Cloudiness')\n",
    "plt.xlabel('Latitude')\n",
    "plt.ylabel('Cloudiness (%)')\n",
    "\n",
    "plt.savefig(\"../output_data/Regress_N_LatCloudiness.png\")\n",
    "\n",
    "plt.show()\n",
    "print(line_eq)"
   ]
  },
  {
   "cell_type": "markdown",
   "metadata": {},
   "source": [
    "####  Southern Hemisphere - Cloudiness (%) vs. Latitude Linear Regression"
   ]
  },
  {
   "cell_type": "code",
   "execution_count": 68,
   "metadata": {},
   "outputs": [
    {
     "data": {
      "image/png": "[encoded data removed]",
      "text/plain": [
       "<Figure size 432x288 with 1 Axes>"
      ]
     },
     "metadata": {
      "needs_background": "light"
     },
     "output_type": "display_data"
    },
    {
     "name": "stdout",
     "output_type": "stream",
     "text": [
      "y = 0.12x + 49\n"
     ]
    }
   ],
   "source": [
    "xvals=s_weather_data['Lat']\n",
    "yvals=s_weather_data['Cloudiness']\n",
    "\n",
    "(slope, intercept, rvalue, pvalue, stderr)=stats.linregress(xvals,yvals)\n",
    "regressvals=xvals*slope + intercept\n",
    "line_eq=f'y = {round(slope,2)}x + {round(intercept)}'\n",
    "\n",
    "plt.scatter(xvals,yvals)\n",
    "plt.plot(xvals, regressvals,\"r-\")\n",
    "plt.title('S. Hemisphere: City Latitude vs. Cloudiness')\n",
    "plt.xlabel('Latitude')\n",
    "plt.ylabel('Cloudiness (%)')\n",
    "\n",
    "plt.savefig(\"../output_data/Regress_S_LatCloudiness.png\")\n",
    "\n",
    "plt.show()\n",
    "print(line_eq)"
   ]
  },
  {
   "cell_type": "markdown",
   "metadata": {},
   "source": [
    "####  Northern Hemisphere - Wind Speed (mph) vs. Latitude Linear Regression"
   ]
  },
  {
   "cell_type": "code",
   "execution_count": 69,
   "metadata": {},
   "outputs": [
    {
     "data": {
      "image/png": "[encoded data removed]",
      "text/plain": [
       "<Figure size 432x288 with 1 Axes>"
      ]
     },
     "metadata": {
      "needs_background": "light"
     },
     "output_type": "display_data"
    },
    {
     "name": "stdout",
     "output_type": "stream",
     "text": [
      "y = -0.0x + 7\n"
     ]
    }
   ],
   "source": [
    "xvals=n_weather_data['Lat']\n",
    "yvals=n_weather_data['Wind Speed']\n",
    "\n",
    "(slope, intercept, rvalue, pvalue, stderr)=stats.linregress(xvals,yvals)\n",
    "regressvals=xvals*slope + intercept\n",
    "line_eq=f'y = {round(slope,2)}x + {round(intercept)}'\n",
    "\n",
    "plt.scatter(xvals,yvals)\n",
    "plt.plot(xvals, regressvals,\"r-\")\n",
    "plt.title('N. Hemisphere: City Latitude vs. Wind Speed')\n",
    "plt.xlabel('Latitude')\n",
    "plt.ylabel('Widn Speed (mph)')\n",
    "\n",
    "plt.savefig(\"../output_data/Regress_N_LatWind.png\")\n",
    "\n",
    "plt.show()\n",
    "print(line_eq)"
   ]
  },
  {
   "cell_type": "markdown",
   "metadata": {},
   "source": [
    "####  Southern Hemisphere - Wind Speed (mph) vs. Latitude Linear Regression"
   ]
  },
  {
   "cell_type": "code",
   "execution_count": 70,
   "metadata": {},
   "outputs": [
    {
     "data": {
      "image/png": "[encoded data removed]",
      "text/plain": [
       "<Figure size 432x288 with 1 Axes>"
      ]
     },
     "metadata": {
      "needs_background": "light"
     },
     "output_type": "display_data"
    },
    {
     "name": "stdout",
     "output_type": "stream",
     "text": [
      "y = -0.14x + 6\n"
     ]
    }
   ],
   "source": [
    "xvals=s_weather_data['Lat']\n",
    "yvals=s_weather_data['Wind Speed']\n",
    "\n",
    "(slope, intercept, rvalue, pvalue, stderr)=stats.linregress(xvals,yvals)\n",
    "regressvals=xvals*slope + intercept\n",
    "line_eq=f'y = {round(slope,2)}x + {round(intercept)}'\n",
    "\n",
    "plt.scatter(xvals,yvals)\n",
    "plt.plot(xvals, regressvals,\"r-\")\n",
    "plt.title('S. Hemisphere: City Latitude vs. Wind Speed')\n",
    "plt.xlabel('Latitude')\n",
    "plt.ylabel('Widn Speed (mph)')\n",
    "\n",
    "plt.savefig(\"../output_data/Regress_S_LatWind.png\")\n",
    "\n",
    "plt.show()\n",
    "print(line_eq)"
   ]
  },
  {
   "cell_type": "code",
   "execution_count": null,
   "metadata": {},
   "outputs": [],
   "source": []
  },
  {
   "cell_type": "code",
   "execution_count": null,
   "metadata": {},
   "outputs": [],
   "source": []
  },
  {
   "cell_type": "code",
   "execution_count": null,
   "metadata": {},
   "outputs": [],
   "source": []
  }
 ],
 "metadata": {
  "anaconda-cloud": {},
  "kernel_info": {
   "name": "python3"
  },
  "kernelspec": {
   "display_name": "Python [conda env:PythonData] *",
   "language": "python",
   "name": "conda-env-PythonData-py"
  },
  "language_info": {
   "codemirror_mode": {
    "name": "ipython",
    "version": 3
   },
   "file_extension": ".py",
   "mimetype": "text/x-python",
   "name": "python",
   "nbconvert_exporter": "python",
   "pygments_lexer": "ipython3",
   "version": "3.6.13"
  },
  "latex_envs": {
   "LaTeX_envs_menu_present": true,
   "autoclose": false,
   "autocomplete": true,
   "bibliofile": "biblio.bib",
   "cite_by": "apalike",
   "current_citInitial": 1,
   "eqLabelWithNumbers": true,
   "eqNumInitial": 1,
   "hotkeys": {
    "equation": "Ctrl-E",
    "itemize": "Ctrl-I"
   },
   "labels_anchors": false,
   "latex_user_defs": false,
   "report_style_numbering": false,
   "user_envs_cfg": false
  },
  "nteract": {
   "version": "0.12.3"
  }
 },
 "nbformat": 4,
 "nbformat_minor": 2
}
