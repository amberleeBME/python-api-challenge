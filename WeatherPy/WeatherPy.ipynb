{
 "cells": [
  {
   "cell_type": "markdown",
   "metadata": {},
   "source": [
    "# WeatherPy\n",
    "----"
   ]
  },
  {
   "cell_type": "code",
   "execution_count": 23,
   "metadata": {
    "scrolled": true
   },
   "outputs": [],
   "source": [
    "# Dependencies and Setup\n",
    "import matplotlib.pyplot as plt\n",
    "import pandas as pd\n",
    "import numpy as np\n",
    "import requests\n",
    "import time\n",
    "from scipy import stats\n",
    "from scipy.stats import linregress\n",
    "from pprint import pprint\n",
    "\n",
    "# Import API key\n",
    "from api_keys import weather_api_key\n",
    "\n",
    "# Incorporated citipy to determine city based on latitude and longitude\n",
    "from citipy import citipy\n",
    "\n",
    "# Output File (CSV)\n",
    "output_data_file = \"../output_data/Cities_Weather_Data.csv\"\n",
    "\n",
    "# Range of latitudes and longitudes\n",
    "lat_range = (-90, 90)\n",
    "lng_range = (-180, 180)"
   ]
  },
  {
   "cell_type": "markdown",
   "metadata": {},
   "source": [
    "## Generate Cities List"
   ]
  },
  {
   "cell_type": "code",
   "execution_count": 8,
   "metadata": {},
   "outputs": [
    {
     "data": {
      "text/plain": [
       "606"
      ]
     },
     "execution_count": 8,
     "metadata": {},
     "output_type": "execute_result"
    }
   ],
   "source": [
    "# List for holding lat_lngs and cities\n",
    "lat_lngs = []\n",
    "cities = []\n",
    "\n",
    "# Create a set of random lat and lng combinations\n",
    "lats = np.random.uniform(lat_range[0], lat_range[1], size=1500)\n",
    "lngs = np.random.uniform(lng_range[0], lng_range[1], size=1500)\n",
    "lat_lngs = zip(lats, lngs)\n",
    "\n",
    "# Identify nearest city for each lat, lng combination\n",
    "for lat_lng in lat_lngs:\n",
    "    city = citipy.nearest_city(lat_lng[0], lat_lng[1]).city_name\n",
    "    \n",
    "    # If the city is unique, then add it to a our cities list\n",
    "    if city not in cities:\n",
    "        cities.append(city)\n",
    "\n",
    "# Print the city count to confirm sufficient count\n",
    "len(cities) "
   ]
  },
  {
   "cell_type": "markdown",
   "metadata": {},
   "source": [
    "### Perform API Calls\n",
    "* Perform a weather check on each city using a series of successive API calls.\n",
    "* Include a print log of each city as it'sbeing processed (with the city number and city name).\n"
   ]
  },
  {
   "cell_type": "code",
   "execution_count": 9,
   "metadata": {
    "scrolled": true
   },
   "outputs": [
    {
     "name": "stdout",
     "output_type": "stream",
     "text": [
      "Beginning Data Retrieval\n",
      "-----------------------------\n",
      "Processing city #1: busselton\n",
      "Processing city #2: yellowknife\n",
      "Processing city #3: guilin\n",
      "Processing city #4: fare\n",
      "Processing city #5: saskylakh\n",
      "Processing city #6: pevek\n",
      "Processing city #7: porto novo\n",
      "Processing city #8: bethel\n",
      "Processing city #9: callaway\n",
      "Processing city #10: ati\n",
      "Processing city #11: thinadhoo\n",
      "Processing city #12: kuala pilah\n",
      "City #13 Not Found, Skipped\n",
      "Processing city #14: hilo\n",
      "Processing city #15: miri\n",
      "City #16 Not Found, Skipped\n",
      "Processing city #17: airai\n",
      "Processing city #18: belmonte\n",
      "Processing city #19: barrow\n",
      "Processing city #20: guerrero negro\n",
      "Processing city #21: mahebourg\n",
      "City #22 Not Found, Skipped\n",
      "Processing city #23: san carlos de bariloche\n",
      "Processing city #24: beppu\n",
      "Processing city #25: avarua\n",
      "Processing city #26: la ronge\n",
      "Processing city #27: albany\n",
      "Processing city #28: arkhangelskoye\n",
      "Processing city #29: narsaq\n",
      "Processing city #30: ponta do sol\n",
      "Processing city #31: pisco\n",
      "Processing city #32: bredasdorp\n",
      "Processing city #33: bluff\n",
      "Processing city #34: provideniya\n",
      "Processing city #35: port hardy\n",
      "Processing city #36: dunedin\n",
      "Processing city #37: rio gallegos\n",
      "Processing city #38: rikitea\n",
      "City #39 Not Found, Skipped\n",
      "Processing city #40: alta floresta\n",
      "Processing city #41: butaritari\n",
      "Processing city #42: alcantara\n",
      "City #43 Not Found, Skipped\n",
      "City #44 Not Found, Skipped\n",
      "Processing city #45: dikson\n",
      "Processing city #46: teruel\n",
      "Processing city #47: punta arenas\n",
      "Processing city #48: tiksi\n",
      "Processing city #49: ixtapa\n",
      "Processing city #50: mount gambier\n",
      "Processing city #51: port alfred\n",
      "Processing city #52: zhezkazgan\n",
      "Processing city #53: hokitika\n",
      "Processing city #54: mar del plata\n",
      "Processing city #55: vaini\n",
      "Processing city #56: west wendover\n",
      "Processing city #57: cape town\n",
      "Processing city #58: yerbogachen\n",
      "Processing city #59: fort morgan\n",
      "Processing city #60: sirajganj\n",
      "Processing city #61: calama\n",
      "Processing city #62: scarborough\n",
      "Processing city #63: tuktoyaktuk\n",
      "Processing city #64: ribeira grande\n",
      "Processing city #65: hobart\n",
      "Processing city #66: ushuaia\n",
      "Processing city #67: puerto ayora\n",
      "Processing city #68: port blair\n",
      "Processing city #69: prince rupert\n",
      "Processing city #70: hermanus\n",
      "Processing city #71: saldanha\n",
      "Processing city #72: khatanga\n",
      "Processing city #73: lebu\n",
      "Processing city #74: bondo\n",
      "Processing city #75: xiaoweizhai\n",
      "Processing city #76: okakarara\n",
      "Processing city #77: alofi\n",
      "Processing city #78: upernavik\n",
      "Processing city #79: bambous virieux\n",
      "Processing city #80: flinders\n",
      "Processing city #81: cockburn town\n",
      "Processing city #82: marawi\n",
      "Processing city #83: ostrovnoy\n",
      "Processing city #84: georgetown\n",
      "Processing city #85: new norfolk\n",
      "Processing city #86: puma\n",
      "Processing city #87: talnakh\n",
      "Processing city #88: palmer\n",
      "Processing city #89: hithadhoo\n",
      "Processing city #90: hamilton\n",
      "Processing city #91: kapaa\n",
      "Processing city #92: nanortalik\n",
      "Processing city #93: iqaluit\n",
      "Processing city #94: faanui\n",
      "Processing city #95: husavik\n",
      "Processing city #96: basco\n",
      "Processing city #97: jamestown\n",
      "Processing city #98: itoman\n",
      "Processing city #99: verkhniy landekh\n",
      "Processing city #100: mayumba\n",
      "Processing city #101: lavrentiya\n",
      "Processing city #102: huanuni\n",
      "Processing city #103: tokur\n",
      "Processing city #104: yeniseysk\n",
      "Processing city #105: pasighat\n",
      "Processing city #106: ancud\n",
      "Processing city #107: klaksvik\n",
      "City #108 Not Found, Skipped\n",
      "City #109 Not Found, Skipped\n",
      "Processing city #110: saint george\n",
      "Processing city #111: heihe\n",
      "Processing city #112: sao joao da barra\n",
      "City #113 Not Found, Skipped\n",
      "Processing city #114: evensk\n",
      "Processing city #115: saint-joseph\n",
      "Processing city #116: sur\n",
      "Processing city #117: venancio aires\n",
      "Processing city #118: clyde river\n",
      "City #119 Not Found, Skipped\n",
      "Processing city #120: kutum\n",
      "Processing city #121: kavieng\n",
      "Processing city #122: port said\n",
      "Processing city #123: estevan\n",
      "Processing city #124: norman wells\n",
      "Processing city #125: tecoanapa\n",
      "Processing city #126: krasnyy yar\n",
      "Processing city #127: awjilah\n",
      "Processing city #128: tulun\n",
      "Processing city #129: hoa binh\n",
      "Processing city #130: maragogi\n",
      "Processing city #131: damghan\n",
      "Processing city #132: soyo\n",
      "Processing city #133: port elizabeth\n",
      "Processing city #134: faya\n",
      "Processing city #135: atuona\n",
      "Processing city #136: buluang\n",
      "City #137 Not Found, Skipped\n",
      "City #138 Not Found, Skipped\n",
      "Processing city #139: tilichiki\n",
      "City #140 Not Found, Skipped\n",
      "Processing city #141: broken hill\n",
      "Processing city #142: bima\n",
      "Processing city #143: souillac\n",
      "Processing city #144: taoudenni\n",
      "Processing city #145: tautira\n",
      "Processing city #146: hanko\n",
      "Processing city #147: lompoc\n",
      "City #148 Not Found, Skipped\n",
      "Processing city #149: manosque\n",
      "City #150 Not Found, Skipped\n",
      "Processing city #151: adrar\n",
      "Processing city #152: omboue\n",
      "Processing city #153: loreto\n",
      "Processing city #154: hambantota\n",
      "Processing city #155: beloha\n",
      "City #156 Not Found, Skipped\n",
      "Processing city #157: suluq\n",
      "Processing city #158: quatre cocos\n",
      "Processing city #159: shelburne\n",
      "Processing city #160: kirakira\n",
      "Processing city #161: onverwacht\n",
      "Processing city #162: sao filipe\n",
      "Processing city #163: fort wellington\n",
      "Processing city #164: chicama\n",
      "Processing city #165: chokurdakh\n",
      "Processing city #166: buraydah\n",
      "Processing city #167: baruun-urt\n",
      "Processing city #168: mubende\n",
      "Processing city #169: batsfjord\n",
      "Processing city #170: east london\n",
      "Processing city #171: severo-kurilsk\n",
      "Processing city #172: half moon bay\n",
      "Processing city #173: ponta delgada\n",
      "Processing city #174: cherskiy\n",
      "Processing city #175: marzuq\n",
      "Processing city #176: lappeenranta\n",
      "City #177 Not Found, Skipped\n",
      "Processing city #178: sabang\n",
      "Processing city #179: tasiilaq\n",
      "Processing city #180: cermik\n",
      "Processing city #181: shepetivka\n",
      "Processing city #182: fairbanks\n",
      "Processing city #183: hasaki\n",
      "Processing city #184: nyanza\n",
      "City #185 Not Found, Skipped\n",
      "Processing city #186: majene\n",
      "Processing city #187: longyearbyen\n",
      "Processing city #188: mogadishu\n",
      "Processing city #189: kaitangata\n",
      "Processing city #190: forio\n",
      "Processing city #191: mataura\n",
      "Processing city #192: vaitape\n",
      "Processing city #193: atambua\n",
      "Processing city #194: aklavik\n",
      "Processing city #195: gat\n",
      "Processing city #196: miguel hidalgo\n",
      "Processing city #197: jiwani\n",
      "City #198 Not Found, Skipped\n",
      "Processing city #199: bolobo\n",
      "Processing city #200: mandalgovi\n",
      "Processing city #201: puerto del rosario\n",
      "Processing city #202: livingstone\n",
      "Processing city #203: dongsheng\n",
      "Processing city #204: soverato\n",
      "Processing city #205: russell\n",
      "Processing city #206: aksha\n",
      "Processing city #207: ca mau\n",
      "Processing city #208: sugod\n",
      "Processing city #209: nikolskoye\n",
      "City #210 Not Found, Skipped\n",
      "Processing city #211: kodiak\n",
      "Processing city #212: mahenge\n",
      "Processing city #213: leningradskiy\n",
      "Processing city #214: lagoa\n",
      "Processing city #215: nan\n",
      "Processing city #216: bela\n",
      "Processing city #217: jalingo\n",
      "Processing city #218: esperance\n",
      "Processing city #219: arraial do cabo\n",
      "Processing city #220: gaya\n",
      "Processing city #221: guayaramerin\n",
      "City #222 Not Found, Skipped\n",
      "City #223 Not Found, Skipped\n",
      "Processing city #224: aksarka\n",
      "Processing city #225: viedma\n",
      "Processing city #226: dortyol\n",
      "Processing city #227: castro\n",
      "Processing city #228: cabo san lucas\n",
      "Processing city #229: bulawayo\n",
      "Processing city #230: santo antonio do sudoeste\n",
      "City #231 Not Found, Skipped\n",
      "Processing city #232: vanderhoof\n",
      "Processing city #233: matara\n",
      "Processing city #234: pangnirtung\n",
      "Processing city #235: tuxtepec\n",
      "Processing city #236: chuy\n",
      "Processing city #237: sabla\n",
      "City #238 Not Found, Skipped\n",
      "Processing city #239: los llanos de aridane\n",
      "Processing city #240: orel\n",
      "Processing city #241: laguna\n",
      "Processing city #242: hovd\n",
      "Processing city #243: thompson\n",
      "Processing city #244: grindavik\n",
      "Processing city #245: victoria point\n",
      "Processing city #246: paka\n",
      "Processing city #247: dwarka\n",
      "Processing city #248: qaanaaq\n",
      "Processing city #249: stonewall\n",
      "Processing city #250: kalang\n",
      "City #251 Not Found, Skipped\n",
      "Processing city #252: tarma\n",
      "Processing city #253: inhambane\n",
      "City #254 Not Found, Skipped\n",
      "Processing city #255: cidreira\n",
      "Processing city #256: olkhovka\n",
      "Processing city #257: saint-philippe\n",
      "Processing city #258: garden city\n",
      "Processing city #259: pyapon\n",
      "Processing city #260: sitka\n",
      "Processing city #261: bonthe\n",
      "Processing city #262: nurobod\n",
      "Processing city #263: fatsa\n",
      "Processing city #264: eyl\n",
      "Processing city #265: esperanza\n"
     ]
    },
    {
     "name": "stdout",
     "output_type": "stream",
     "text": [
      "Processing city #266: mengcheng\n",
      "Processing city #267: lorengau\n",
      "Processing city #268: tessalit\n",
      "Processing city #269: dakoro\n",
      "City #270 Not Found, Skipped\n",
      "Processing city #271: keflavik\n",
      "Processing city #272: lypova dolyna\n",
      "Processing city #273: springfield\n",
      "Processing city #274: ulladulla\n",
      "Processing city #275: ola\n",
      "Processing city #276: camp verde\n",
      "Processing city #277: luderitz\n",
      "Processing city #278: montepuez\n",
      "Processing city #279: sisimiut\n",
      "City #280 Not Found, Skipped\n",
      "Processing city #281: den helder\n",
      "Processing city #282: sembakung\n",
      "Processing city #283: ngunguru\n",
      "Processing city #284: aykhal\n",
      "Processing city #285: fortuna\n",
      "Processing city #286: furano\n",
      "Processing city #287: carutapera\n",
      "Processing city #288: areosa\n",
      "Processing city #289: krasnokamensk\n",
      "Processing city #290: bonfim\n",
      "Processing city #291: correntina\n",
      "Processing city #292: kochi\n",
      "City #293 Not Found, Skipped\n",
      "Processing city #294: sioux lookout\n",
      "Processing city #295: nisia floresta\n",
      "Processing city #296: deputatskiy\n",
      "Processing city #297: wanning\n",
      "Processing city #298: nexo\n",
      "Processing city #299: juquitiba\n",
      "Processing city #300: dongli\n",
      "Processing city #301: carnarvon\n",
      "Processing city #302: pechora\n",
      "Processing city #303: barabai\n",
      "Processing city #304: nueva gerona\n",
      "Processing city #305: jakar\n",
      "Processing city #306: yarmouth\n",
      "Processing city #307: biltine\n",
      "Processing city #308: ilulissat\n",
      "Processing city #309: pemba\n",
      "Processing city #310: vila\n",
      "Processing city #311: dryden\n",
      "Processing city #312: katsuura\n",
      "City #313 Not Found, Skipped\n",
      "Processing city #314: coruripe\n",
      "Processing city #315: codrington\n",
      "Processing city #316: avera\n",
      "Processing city #317: nogliki\n",
      "Processing city #318: novoagansk\n",
      "Processing city #319: isangel\n",
      "City #320 Not Found, Skipped\n",
      "City #321 Not Found, Skipped\n",
      "City #322 Not Found, Skipped\n",
      "Processing city #323: vila franca do campo\n",
      "Processing city #324: trofors\n",
      "Processing city #325: qaqortoq\n",
      "Processing city #326: chumphon\n",
      "Processing city #327: treinta y tres\n",
      "Processing city #328: warrnambool\n",
      "Processing city #329: kyshtovka\n",
      "Processing city #330: san antonio suchitepequez\n",
      "Processing city #331: weston\n",
      "Processing city #332: nemuro\n",
      "Processing city #333: olinda\n",
      "Processing city #334: bocana de paiwas\n",
      "Processing city #335: victoria\n",
      "Processing city #336: karratha\n",
      "Processing city #337: katobu\n",
      "Processing city #338: bengkulu\n",
      "Processing city #339: port shepstone\n",
      "Processing city #340: axim\n",
      "Processing city #341: kiruna\n",
      "Processing city #342: vostok\n",
      "Processing city #343: road town\n",
      "Processing city #344: grand gaube\n",
      "Processing city #345: rio novo\n",
      "Processing city #346: dondukovskaya\n",
      "Processing city #347: sobolevo\n",
      "Processing city #348: maniwaki\n",
      "Processing city #349: zhigansk\n",
      "City #350 Not Found, Skipped\n",
      "Processing city #351: paamiut\n",
      "Processing city #352: aracaju\n",
      "Processing city #353: ural\n",
      "Processing city #354: nanchang\n",
      "City #355 Not Found, Skipped\n",
      "Processing city #356: college\n",
      "Processing city #357: lugovoy\n",
      "Processing city #358: krasnoselkup\n",
      "Processing city #359: sarkand\n",
      "Processing city #360: mayo\n",
      "Processing city #361: kibre mengist\n",
      "Processing city #362: tacoronte\n",
      "Processing city #363: arusha\n",
      "Processing city #364: mersing\n",
      "Processing city #365: bone\n",
      "Processing city #366: dudinka\n",
      "Processing city #367: caravelas\n",
      "Processing city #368: novikovo\n",
      "City #369 Not Found, Skipped\n",
      "Processing city #370: fairview\n",
      "Processing city #371: the pas\n",
      "Processing city #372: pastavy\n",
      "Processing city #373: buy\n",
      "Processing city #374: vao\n",
      "Processing city #375: ayan\n",
      "Processing city #376: skjervoy\n",
      "Processing city #377: angoche\n",
      "City #378 Not Found, Skipped\n",
      "Processing city #379: gao\n",
      "Processing city #380: mae hong son\n",
      "Processing city #381: teahupoo\n",
      "Processing city #382: gotsu\n",
      "Processing city #383: rawson\n",
      "Processing city #384: henties bay\n",
      "Processing city #385: seoul\n",
      "Processing city #386: meulaboh\n",
      "Processing city #387: pinheiro machado\n",
      "Processing city #388: barras\n",
      "Processing city #389: san patricio\n",
      "Processing city #390: qui nhon\n",
      "Processing city #391: sabha\n",
      "Processing city #392: kahului\n",
      "Processing city #393: ginda\n",
      "Processing city #394: ornskoldsvik\n",
      "Processing city #395: portland\n",
      "Processing city #396: berlevag\n",
      "Processing city #397: salalah\n",
      "City #398 Not Found, Skipped\n",
      "Processing city #399: salinopolis\n",
      "Processing city #400: kavaratti\n",
      "Processing city #401: fenoarivo\n",
      "Processing city #402: songea\n",
      "Processing city #403: taltal\n",
      "Processing city #404: keti bandar\n",
      "Processing city #405: shitkino\n",
      "Processing city #406: mallasamudram\n",
      "Processing city #407: grimshaw\n",
      "Processing city #408: kazerun\n",
      "Processing city #409: isiro\n",
      "Processing city #410: palu\n",
      "Processing city #411: calvinia\n",
      "Processing city #412: te anau\n",
      "Processing city #413: vilhena\n",
      "Processing city #414: khasan\n",
      "Processing city #415: dingle\n",
      "Processing city #416: ahipara\n",
      "Processing city #417: nabire\n",
      "Processing city #418: hualmay\n",
      "Processing city #419: oulainen\n",
      "Processing city #420: san fernando\n",
      "Processing city #421: ucluelet\n",
      "City #422 Not Found, Skipped\n",
      "Processing city #423: ciudad bolivar\n",
      "Processing city #424: digha\n",
      "Processing city #425: pionerskiy\n",
      "City #426 Not Found, Skipped\n",
      "City #427 Not Found, Skipped\n",
      "Processing city #428: mosetse\n",
      "Processing city #429: damietta\n",
      "Processing city #430: urumqi\n",
      "Processing city #431: milkovo\n",
      "Processing city #432: kaduqli\n",
      "Processing city #433: matagami\n",
      "Processing city #434: fort nelson\n",
      "Processing city #435: tubuala\n",
      "Processing city #436: impfondo\n",
      "Processing city #437: peer\n",
      "Processing city #438: akureyri\n",
      "Processing city #439: kampot\n",
      "Processing city #440: severomuysk\n",
      "Processing city #441: mitsamiouli\n",
      "Processing city #442: geraldton\n",
      "Processing city #443: mehamn\n",
      "Processing city #444: torbay\n",
      "Processing city #445: usta muhammad\n",
      "Processing city #446: todos santos\n",
      "Processing city #447: banda aceh\n",
      "Processing city #448: soe\n",
      "Processing city #449: port lincoln\n",
      "Processing city #450: leh\n",
      "Processing city #451: conceicao do araguaia\n",
      "Processing city #452: lerik\n",
      "Processing city #453: ajdabiya\n",
      "Processing city #454: phalodi\n",
      "Processing city #455: awbari\n",
      "Processing city #456: alice\n",
      "Processing city #457: vila velha\n",
      "Processing city #458: sokoni\n",
      "Processing city #459: teonthar\n",
      "Processing city #460: lazaro cardenas\n",
      "Processing city #461: muzhi\n",
      "Processing city #462: hofn\n",
      "Processing city #463: kudahuvadhoo\n",
      "City #464 Not Found, Skipped\n",
      "City #465 Not Found, Skipped\n",
      "Processing city #466: muros\n",
      "Processing city #467: sinnamary\n",
      "Processing city #468: wilmington\n",
      "Processing city #469: arlit\n",
      "Processing city #470: moree\n",
      "Processing city #471: egvekinot\n",
      "Processing city #472: alice springs\n",
      "Processing city #473: alakurtti\n",
      "Processing city #474: pangody\n",
      "Processing city #475: khani\n",
      "Processing city #476: borzna\n",
      "Processing city #477: rosa zarate\n",
      "Processing city #478: glace bay\n",
      "Processing city #479: puerto baquerizo moreno\n",
      "Processing city #480: boende\n",
      "Processing city #481: oksfjord\n",
      "Processing city #482: ebensee\n",
      "Processing city #483: barahona\n",
      "Processing city #484: ridgecrest\n",
      "Processing city #485: jalu\n",
      "Processing city #486: touros\n",
      "Processing city #487: petropavlovsk-kamchatskiy\n",
      "Processing city #488: nome\n",
      "Processing city #489: haines junction\n",
      "Processing city #490: malpe\n",
      "Processing city #491: kieta\n",
      "Processing city #492: salamanca\n",
      "Processing city #493: griffith\n",
      "Processing city #494: toora-khem\n",
      "Processing city #495: la paz\n",
      "City #496 Not Found, Skipped\n",
      "Processing city #497: turukhansk\n",
      "Processing city #498: yarega\n",
      "Processing city #499: san quintin\n",
      "Processing city #500: bilibino\n",
      "Processing city #501: opuwo\n",
      "Processing city #502: maniitsoq\n",
      "Processing city #503: takoradi\n",
      "Processing city #504: yumen\n",
      "Processing city #505: longido\n",
      "Processing city #506: broome\n",
      "Processing city #507: shipitsyno\n",
      "Processing city #508: isabela\n",
      "Processing city #509: strathmore\n",
      "Processing city #510: hobyo\n",
      "City #511 Not Found, Skipped\n",
      "Processing city #512: srednekolymsk\n",
      "Processing city #513: linxia\n",
      "Processing city #514: ardesen\n",
      "Processing city #515: necochea\n",
      "Processing city #516: coquimbo\n",
      "Processing city #517: tezu\n",
      "Processing city #518: smithers\n",
      "Processing city #519: lingao\n",
      "Processing city #520: hoopstad\n",
      "Processing city #521: tutoia\n",
      "City #522 Not Found, Skipped\n",
      "Processing city #523: auki\n",
      "Processing city #524: freeport\n",
      "Processing city #525: tayga\n",
      "Processing city #526: waipawa\n",
      "Processing city #527: kosa\n",
      "Processing city #528: coihueco\n",
      "Processing city #529: warrington\n",
      "City #530 Not Found, Skipped\n"
     ]
    },
    {
     "name": "stdout",
     "output_type": "stream",
     "text": [
      "Processing city #531: vestmanna\n",
      "Processing city #532: carlagan\n",
      "Processing city #533: bathsheba\n",
      "Processing city #534: wajir\n",
      "Processing city #535: huarmey\n",
      "Processing city #536: praia\n",
      "Processing city #537: sorland\n",
      "Processing city #538: portsmouth\n",
      "Processing city #539: baykit\n",
      "City #540 Not Found, Skipped\n",
      "Processing city #541: urengoy\n",
      "City #542 Not Found, Skipped\n",
      "Processing city #543: liepaja\n",
      "Processing city #544: marsa matruh\n",
      "Processing city #545: sola\n",
      "Processing city #546: byron bay\n",
      "City #547 Not Found, Skipped\n",
      "Processing city #548: abu samrah\n",
      "Processing city #549: spearfish\n",
      "Processing city #550: kudymkar\n",
      "Processing city #551: kloulklubed\n",
      "Processing city #552: murray bridge\n",
      "Processing city #553: bara\n",
      "Processing city #554: shache\n",
      "Processing city #555: frontera\n",
      "Processing city #556: beinamar\n",
      "Processing city #557: san cristobal\n",
      "City #558 Not Found, Skipped\n",
      "Processing city #559: yar-sale\n",
      "Processing city #560: merauke\n",
      "Processing city #561: nouakchott\n",
      "Processing city #562: pochutla\n",
      "Processing city #563: bassano\n",
      "Processing city #564: douentza\n",
      "Processing city #565: juneau\n",
      "Processing city #566: shingu\n",
      "Processing city #567: la salle\n",
      "City #568 Not Found, Skipped\n",
      "Processing city #569: balashov\n",
      "City #570 Not Found, Skipped\n",
      "Processing city #571: seligenstadt\n",
      "Processing city #572: natal\n",
      "Processing city #573: namibe\n",
      "Processing city #574: yebaishou\n",
      "Processing city #575: pyay\n",
      "Processing city #576: nacala\n",
      "City #577 Not Found, Skipped\n",
      "Processing city #578: porto nacional\n",
      "Processing city #579: san angelo\n",
      "Processing city #580: townsville\n",
      "Processing city #581: sacel\n",
      "City #582 Not Found, Skipped\n",
      "Processing city #583: ploemeur\n",
      "Processing city #584: springbok\n",
      "Processing city #585: lata\n",
      "Processing city #586: chaman\n",
      "Processing city #587: esil\n",
      "Processing city #588: mizoch\n",
      "Processing city #589: tazovskiy\n",
      "Processing city #590: liverpool\n",
      "Processing city #591: yabelo\n",
      "Processing city #592: przhevalskoye\n",
      "Processing city #593: tigil\n",
      "Processing city #594: alamosa\n",
      "Processing city #595: hay river\n",
      "Processing city #596: winslow\n",
      "Processing city #597: mao\n",
      "Processing city #598: xuzhou\n",
      "Processing city #599: carpinteria\n",
      "Processing city #600: kalanguy\n",
      "Processing city #601: trairi\n",
      "Processing city #602: fort saint james\n",
      "Processing city #603: acapulco\n",
      "Processing city #604: arroio grande\n",
      "Processing city #605: kruisfontein\n",
      "Processing city #606: methven\n"
     ]
    }
   ],
   "source": [
    "# Base URL\n",
    "b_url=\"http://api.openweathermap.org/data/2.5/weather?appid=\"+weather_api_key+ \"&units=imperial&q=\"\n",
    "\n",
    "# Set up lists for response\n",
    "cities_found=[]\n",
    "lat=[]\n",
    "lng=[]\n",
    "temp=[]\n",
    "hum=[]\n",
    "cloud=[]\n",
    "wind=[]\n",
    "country=[]\n",
    "date=[]\n",
    "\n",
    "print(\"Beginning Data Retrieval\")\n",
    "print(\"-----------------------------\")\n",
    "\n",
    "url=b_url+cities[0]\n",
    "response=requests.get(url).json()\n",
    "\n",
    "for each_city in cities:\n",
    "    ind=cities.index(each_city)+1\n",
    "    url=b_url+each_city\n",
    "    response=requests.get(url).json()\n",
    "    try:\n",
    "        lat.append(response['coord']['lat'])\n",
    "        lng.append(response['coord']['lon'])\n",
    "        temp.append(response['main']['temp_max'])\n",
    "        hum.append(response['main']['humidity'])\n",
    "        cloud.append(response['clouds']['all'])\n",
    "        wind.append(response['wind']['speed'])\n",
    "        country.append(response['sys']['country'])\n",
    "        date.append(response['dt'])\n",
    "        cities_found.append(each_city)\n",
    "        print(f\"Processing city #{ind}: {each_city}\")\n",
    "    except:\n",
    "        print(f\"City #{ind} Not Found, Skipped\")"
   ]
  },
  {
   "cell_type": "markdown",
   "metadata": {},
   "source": [
    "### Convert Raw Data to DataFrame\n",
    "* Export the city data into a .csv.\n",
    "* Display the DataFrame"
   ]
  },
  {
   "cell_type": "code",
   "execution_count": 11,
   "metadata": {},
   "outputs": [
    {
     "data": {
      "text/html": [
       "<div>\n",
       "<style scoped>\n",
       "    .dataframe tbody tr th:only-of-type {\n",
       "        vertical-align: middle;\n",
       "    }\n",
       "\n",
       "    .dataframe tbody tr th {\n",
       "        vertical-align: top;\n",
       "    }\n",
       "\n",
       "    .dataframe thead th {\n",
       "        text-align: right;\n",
       "    }\n",
       "</style>\n",
       "<table border=\"1\" class=\"dataframe\">\n",
       "  <thead>\n",
       "    <tr style=\"text-align: right;\">\n",
       "      <th></th>\n",
       "      <th>City</th>\n",
       "      <th>Lat</th>\n",
       "      <th>Lng</th>\n",
       "      <th>Max Temp</th>\n",
       "      <th>Humidity</th>\n",
       "      <th>Cloudiness</th>\n",
       "      <th>Wind Speed</th>\n",
       "      <th>Country</th>\n",
       "      <th>Date</th>\n",
       "    </tr>\n",
       "  </thead>\n",
       "  <tbody>\n",
       "    <tr>\n",
       "      <th>0</th>\n",
       "      <td>busselton</td>\n",
       "      <td>-33.6500</td>\n",
       "      <td>115.3333</td>\n",
       "      <td>64.04</td>\n",
       "      <td>71</td>\n",
       "      <td>1</td>\n",
       "      <td>25.17</td>\n",
       "      <td>AU</td>\n",
       "      <td>1627264765</td>\n",
       "    </tr>\n",
       "    <tr>\n",
       "      <th>1</th>\n",
       "      <td>yellowknife</td>\n",
       "      <td>62.4560</td>\n",
       "      <td>-114.3525</td>\n",
       "      <td>60.30</td>\n",
       "      <td>49</td>\n",
       "      <td>51</td>\n",
       "      <td>8.99</td>\n",
       "      <td>CA</td>\n",
       "      <td>1627264813</td>\n",
       "    </tr>\n",
       "    <tr>\n",
       "      <th>2</th>\n",
       "      <td>guilin</td>\n",
       "      <td>25.2819</td>\n",
       "      <td>110.2864</td>\n",
       "      <td>87.96</td>\n",
       "      <td>63</td>\n",
       "      <td>2</td>\n",
       "      <td>2.30</td>\n",
       "      <td>CN</td>\n",
       "      <td>1627264813</td>\n",
       "    </tr>\n",
       "    <tr>\n",
       "      <th>3</th>\n",
       "      <td>fare</td>\n",
       "      <td>-16.7000</td>\n",
       "      <td>-151.0167</td>\n",
       "      <td>77.79</td>\n",
       "      <td>67</td>\n",
       "      <td>5</td>\n",
       "      <td>6.35</td>\n",
       "      <td>PF</td>\n",
       "      <td>1627264813</td>\n",
       "    </tr>\n",
       "    <tr>\n",
       "      <th>4</th>\n",
       "      <td>saskylakh</td>\n",
       "      <td>71.9167</td>\n",
       "      <td>114.0833</td>\n",
       "      <td>59.65</td>\n",
       "      <td>56</td>\n",
       "      <td>89</td>\n",
       "      <td>16.37</td>\n",
       "      <td>RU</td>\n",
       "      <td>1627264814</td>\n",
       "    </tr>\n",
       "    <tr>\n",
       "      <th>...</th>\n",
       "      <td>...</td>\n",
       "      <td>...</td>\n",
       "      <td>...</td>\n",
       "      <td>...</td>\n",
       "      <td>...</td>\n",
       "      <td>...</td>\n",
       "      <td>...</td>\n",
       "      <td>...</td>\n",
       "      <td>...</td>\n",
       "    </tr>\n",
       "    <tr>\n",
       "      <th>546</th>\n",
       "      <td>fort saint james</td>\n",
       "      <td>54.4333</td>\n",
       "      <td>-124.2500</td>\n",
       "      <td>62.49</td>\n",
       "      <td>61</td>\n",
       "      <td>100</td>\n",
       "      <td>1.23</td>\n",
       "      <td>CA</td>\n",
       "      <td>1627264939</td>\n",
       "    </tr>\n",
       "    <tr>\n",
       "      <th>547</th>\n",
       "      <td>acapulco</td>\n",
       "      <td>16.8634</td>\n",
       "      <td>-99.8901</td>\n",
       "      <td>81.99</td>\n",
       "      <td>85</td>\n",
       "      <td>70</td>\n",
       "      <td>9.44</td>\n",
       "      <td>MX</td>\n",
       "      <td>1627264939</td>\n",
       "    </tr>\n",
       "    <tr>\n",
       "      <th>548</th>\n",
       "      <td>arroio grande</td>\n",
       "      <td>-32.2375</td>\n",
       "      <td>-53.0869</td>\n",
       "      <td>63.27</td>\n",
       "      <td>89</td>\n",
       "      <td>39</td>\n",
       "      <td>6.78</td>\n",
       "      <td>BR</td>\n",
       "      <td>1627264940</td>\n",
       "    </tr>\n",
       "    <tr>\n",
       "      <th>549</th>\n",
       "      <td>kruisfontein</td>\n",
       "      <td>-34.0033</td>\n",
       "      <td>24.7314</td>\n",
       "      <td>54.59</td>\n",
       "      <td>34</td>\n",
       "      <td>100</td>\n",
       "      <td>11.59</td>\n",
       "      <td>ZA</td>\n",
       "      <td>1627264940</td>\n",
       "    </tr>\n",
       "    <tr>\n",
       "      <th>550</th>\n",
       "      <td>methven</td>\n",
       "      <td>-43.6333</td>\n",
       "      <td>171.6500</td>\n",
       "      <td>51.91</td>\n",
       "      <td>76</td>\n",
       "      <td>100</td>\n",
       "      <td>9.22</td>\n",
       "      <td>NZ</td>\n",
       "      <td>1627264940</td>\n",
       "    </tr>\n",
       "  </tbody>\n",
       "</table>\n",
       "<p>551 rows × 9 columns</p>\n",
       "</div>"
      ],
      "text/plain": [
       "                 City      Lat       Lng  Max Temp  Humidity  Cloudiness  \\\n",
       "0           busselton -33.6500  115.3333     64.04        71           1   \n",
       "1         yellowknife  62.4560 -114.3525     60.30        49          51   \n",
       "2              guilin  25.2819  110.2864     87.96        63           2   \n",
       "3                fare -16.7000 -151.0167     77.79        67           5   \n",
       "4           saskylakh  71.9167  114.0833     59.65        56          89   \n",
       "..                ...      ...       ...       ...       ...         ...   \n",
       "546  fort saint james  54.4333 -124.2500     62.49        61         100   \n",
       "547          acapulco  16.8634  -99.8901     81.99        85          70   \n",
       "548     arroio grande -32.2375  -53.0869     63.27        89          39   \n",
       "549      kruisfontein -34.0033   24.7314     54.59        34         100   \n",
       "550           methven -43.6333  171.6500     51.91        76         100   \n",
       "\n",
       "     Wind Speed Country        Date  \n",
       "0         25.17      AU  1627264765  \n",
       "1          8.99      CA  1627264813  \n",
       "2          2.30      CN  1627264813  \n",
       "3          6.35      PF  1627264813  \n",
       "4         16.37      RU  1627264814  \n",
       "..          ...     ...         ...  \n",
       "546        1.23      CA  1627264939  \n",
       "547        9.44      MX  1627264939  \n",
       "548        6.78      BR  1627264940  \n",
       "549       11.59      ZA  1627264940  \n",
       "550        9.22      NZ  1627264940  \n",
       "\n",
       "[551 rows x 9 columns]"
      ]
     },
     "execution_count": 11,
     "metadata": {},
     "output_type": "execute_result"
    }
   ],
   "source": [
    "weather_dict = {\n",
    "    \"City\": cities_found,\n",
    "    \"Lat\":lat,\n",
    "    \"Lng\":lng,\n",
    "    \"Max Temp\":temp,\n",
    "    \"Humidity\":hum,\n",
    "    \"Cloudiness\":cloud,\n",
    "    \"Wind Speed\":wind,\n",
    "    \"Country\":country,\n",
    "    \"Date\":date\n",
    "}\n",
    "# Convert to DataFrame and output to CSV file\n",
    "weather_data = pd.DataFrame(weather_dict)\n",
    "weather_data.to_csv(output_data_file)\n",
    "weather_data"
   ]
  },
  {
   "cell_type": "code",
   "execution_count": 12,
   "metadata": {},
   "outputs": [
    {
     "data": {
      "text/html": [
       "<div>\n",
       "<style scoped>\n",
       "    .dataframe tbody tr th:only-of-type {\n",
       "        vertical-align: middle;\n",
       "    }\n",
       "\n",
       "    .dataframe tbody tr th {\n",
       "        vertical-align: top;\n",
       "    }\n",
       "\n",
       "    .dataframe thead th {\n",
       "        text-align: right;\n",
       "    }\n",
       "</style>\n",
       "<table border=\"1\" class=\"dataframe\">\n",
       "  <thead>\n",
       "    <tr style=\"text-align: right;\">\n",
       "      <th></th>\n",
       "      <th>Lat</th>\n",
       "      <th>Lng</th>\n",
       "      <th>Max Temp</th>\n",
       "      <th>Humidity</th>\n",
       "      <th>Cloudiness</th>\n",
       "      <th>Wind Speed</th>\n",
       "      <th>Date</th>\n",
       "    </tr>\n",
       "  </thead>\n",
       "  <tbody>\n",
       "    <tr>\n",
       "      <th>count</th>\n",
       "      <td>551.000000</td>\n",
       "      <td>551.000000</td>\n",
       "      <td>551.000000</td>\n",
       "      <td>551.000000</td>\n",
       "      <td>551.000000</td>\n",
       "      <td>551.000000</td>\n",
       "      <td>5.510000e+02</td>\n",
       "    </tr>\n",
       "    <tr>\n",
       "      <th>mean</th>\n",
       "      <td>21.068607</td>\n",
       "      <td>16.720414</td>\n",
       "      <td>68.854065</td>\n",
       "      <td>70.473684</td>\n",
       "      <td>56.943739</td>\n",
       "      <td>7.639710</td>\n",
       "      <td>1.627265e+09</td>\n",
       "    </tr>\n",
       "    <tr>\n",
       "      <th>std</th>\n",
       "      <td>33.315454</td>\n",
       "      <td>89.699362</td>\n",
       "      <td>13.633156</td>\n",
       "      <td>19.477510</td>\n",
       "      <td>40.513685</td>\n",
       "      <td>5.284383</td>\n",
       "      <td>8.653993e+01</td>\n",
       "    </tr>\n",
       "    <tr>\n",
       "      <th>min</th>\n",
       "      <td>-54.800000</td>\n",
       "      <td>-179.166700</td>\n",
       "      <td>31.750000</td>\n",
       "      <td>7.000000</td>\n",
       "      <td>0.000000</td>\n",
       "      <td>0.000000</td>\n",
       "      <td>1.627264e+09</td>\n",
       "    </tr>\n",
       "    <tr>\n",
       "      <th>25%</th>\n",
       "      <td>-5.496950</td>\n",
       "      <td>-59.733350</td>\n",
       "      <td>59.100000</td>\n",
       "      <td>61.000000</td>\n",
       "      <td>11.000000</td>\n",
       "      <td>3.480000</td>\n",
       "      <td>1.627265e+09</td>\n",
       "    </tr>\n",
       "    <tr>\n",
       "      <th>50%</th>\n",
       "      <td>24.783300</td>\n",
       "      <td>23.686600</td>\n",
       "      <td>70.360000</td>\n",
       "      <td>74.000000</td>\n",
       "      <td>75.000000</td>\n",
       "      <td>6.350000</td>\n",
       "      <td>1.627265e+09</td>\n",
       "    </tr>\n",
       "    <tr>\n",
       "      <th>75%</th>\n",
       "      <td>50.340700</td>\n",
       "      <td>94.981550</td>\n",
       "      <td>79.555000</td>\n",
       "      <td>85.000000</td>\n",
       "      <td>98.000000</td>\n",
       "      <td>10.370000</td>\n",
       "      <td>1.627265e+09</td>\n",
       "    </tr>\n",
       "    <tr>\n",
       "      <th>max</th>\n",
       "      <td>78.218600</td>\n",
       "      <td>178.416700</td>\n",
       "      <td>101.640000</td>\n",
       "      <td>100.000000</td>\n",
       "      <td>100.000000</td>\n",
       "      <td>28.720000</td>\n",
       "      <td>1.627265e+09</td>\n",
       "    </tr>\n",
       "  </tbody>\n",
       "</table>\n",
       "</div>"
      ],
      "text/plain": [
       "              Lat         Lng    Max Temp    Humidity  Cloudiness  Wind Speed  \\\n",
       "count  551.000000  551.000000  551.000000  551.000000  551.000000  551.000000   \n",
       "mean    21.068607   16.720414   68.854065   70.473684   56.943739    7.639710   \n",
       "std     33.315454   89.699362   13.633156   19.477510   40.513685    5.284383   \n",
       "min    -54.800000 -179.166700   31.750000    7.000000    0.000000    0.000000   \n",
       "25%     -5.496950  -59.733350   59.100000   61.000000   11.000000    3.480000   \n",
       "50%     24.783300   23.686600   70.360000   74.000000   75.000000    6.350000   \n",
       "75%     50.340700   94.981550   79.555000   85.000000   98.000000   10.370000   \n",
       "max     78.218600  178.416700  101.640000  100.000000  100.000000   28.720000   \n",
       "\n",
       "               Date  \n",
       "count  5.510000e+02  \n",
       "mean   1.627265e+09  \n",
       "std    8.653993e+01  \n",
       "min    1.627264e+09  \n",
       "25%    1.627265e+09  \n",
       "50%    1.627265e+09  \n",
       "75%    1.627265e+09  \n",
       "max    1.627265e+09  "
      ]
     },
     "execution_count": 12,
     "metadata": {},
     "output_type": "execute_result"
    }
   ],
   "source": [
    "weather_data.describe()"
   ]
  },
  {
   "cell_type": "markdown",
   "metadata": {},
   "source": [
    "## Inspect the data and remove the cities where the humidity > 100%.\n",
    "----\n",
    "Skip this step if there are no cities that have humidity > 100%. "
   ]
  },
  {
   "cell_type": "code",
   "execution_count": 17,
   "metadata": {},
   "outputs": [
    {
     "data": {
      "text/plain": [
       "Int64Index([], dtype='int64')"
      ]
     },
     "execution_count": 17,
     "metadata": {},
     "output_type": "execute_result"
    }
   ],
   "source": [
    "# Get the indices of cities that have humidity over 100%.\n",
    "# Make a new DataFrame equal to the city data to drop all humidity outliers by index.\n",
    "# Passing \"inplace=False\" will make a copy of the city_data DataFrame, which we call \"clean_city_data\".\n",
    "# if weather_data[\"Humidity\"].max()>100:\n",
    "    "
   ]
  },
  {
   "cell_type": "code",
   "execution_count": 19,
   "metadata": {},
   "outputs": [
    {
     "data": {
      "text/html": [
       "<div>\n",
       "<style scoped>\n",
       "    .dataframe tbody tr th:only-of-type {\n",
       "        vertical-align: middle;\n",
       "    }\n",
       "\n",
       "    .dataframe tbody tr th {\n",
       "        vertical-align: top;\n",
       "    }\n",
       "\n",
       "    .dataframe thead th {\n",
       "        text-align: right;\n",
       "    }\n",
       "</style>\n",
       "<table border=\"1\" class=\"dataframe\">\n",
       "  <thead>\n",
       "    <tr style=\"text-align: right;\">\n",
       "      <th></th>\n",
       "      <th>City</th>\n",
       "      <th>Lat</th>\n",
       "      <th>Lng</th>\n",
       "      <th>Max Temp</th>\n",
       "      <th>Humidity</th>\n",
       "      <th>Cloudiness</th>\n",
       "      <th>Wind Speed</th>\n",
       "      <th>Country</th>\n",
       "      <th>Date</th>\n",
       "    </tr>\n",
       "  </thead>\n",
       "  <tbody>\n",
       "    <tr>\n",
       "      <td>0</td>\n",
       "      <td>butaritari</td>\n",
       "      <td>3.07</td>\n",
       "      <td>172.79</td>\n",
       "      <td>83.32</td>\n",
       "      <td>74</td>\n",
       "      <td>84</td>\n",
       "      <td>10.42</td>\n",
       "      <td>KI</td>\n",
       "      <td>1593605283</td>\n",
       "    </tr>\n",
       "    <tr>\n",
       "      <td>1</td>\n",
       "      <td>yerbogachen</td>\n",
       "      <td>61.28</td>\n",
       "      <td>108.01</td>\n",
       "      <td>79.52</td>\n",
       "      <td>58</td>\n",
       "      <td>20</td>\n",
       "      <td>7.70</td>\n",
       "      <td>RU</td>\n",
       "      <td>1593605121</td>\n",
       "    </tr>\n",
       "    <tr>\n",
       "      <td>2</td>\n",
       "      <td>cape town</td>\n",
       "      <td>-33.93</td>\n",
       "      <td>18.42</td>\n",
       "      <td>73.00</td>\n",
       "      <td>77</td>\n",
       "      <td>27</td>\n",
       "      <td>4.70</td>\n",
       "      <td>ZA</td>\n",
       "      <td>1593605039</td>\n",
       "    </tr>\n",
       "    <tr>\n",
       "      <td>3</td>\n",
       "      <td>touba</td>\n",
       "      <td>8.28</td>\n",
       "      <td>-7.68</td>\n",
       "      <td>79.97</td>\n",
       "      <td>75</td>\n",
       "      <td>82</td>\n",
       "      <td>3.58</td>\n",
       "      <td>CI</td>\n",
       "      <td>1593605284</td>\n",
       "    </tr>\n",
       "    <tr>\n",
       "      <td>4</td>\n",
       "      <td>jamestown</td>\n",
       "      <td>42.10</td>\n",
       "      <td>-79.24</td>\n",
       "      <td>64.00</td>\n",
       "      <td>88</td>\n",
       "      <td>1</td>\n",
       "      <td>6.93</td>\n",
       "      <td>US</td>\n",
       "      <td>1593605284</td>\n",
       "    </tr>\n",
       "  </tbody>\n",
       "</table>\n",
       "</div>"
      ],
      "text/plain": [
       "          City    Lat     Lng  Max Temp  Humidity  Cloudiness  Wind Speed  \\\n",
       "0   butaritari   3.07  172.79     83.32        74          84       10.42   \n",
       "1  yerbogachen  61.28  108.01     79.52        58          20        7.70   \n",
       "2    cape town -33.93   18.42     73.00        77          27        4.70   \n",
       "3        touba   8.28   -7.68     79.97        75          82        3.58   \n",
       "4    jamestown  42.10  -79.24     64.00        88           1        6.93   \n",
       "\n",
       "  Country        Date  \n",
       "0      KI  1593605283  \n",
       "1      RU  1593605121  \n",
       "2      ZA  1593605039  \n",
       "3      CI  1593605284  \n",
       "4      US  1593605284  "
      ]
     },
     "execution_count": 19,
     "metadata": {},
     "output_type": "execute_result"
    }
   ],
   "source": [
    "\n"
   ]
  },
  {
   "cell_type": "markdown",
   "metadata": {},
   "source": [
    "## Plotting the Data\n",
    "* Use proper labeling of the plots using plot titles (including date of analysis) and axes labels.\n",
    "* Save the plotted figures as .pngs."
   ]
  },
  {
   "cell_type": "markdown",
   "metadata": {},
   "source": [
    "## Latitude vs. Temperature Plot"
   ]
  },
  {
   "cell_type": "code",
   "execution_count": 17,
   "metadata": {
    "scrolled": true
   },
   "outputs": [
    {
     "data": {
      "image/png": "[encoded data removed]",
      "text/plain": [
       "<Figure size 432x288 with 1 Axes>"
      ]
     },
     "metadata": {
      "needs_background": "light"
     },
     "output_type": "display_data"
    }
   ],
   "source": [
    "xvals=weather_data['Lat']\n",
    "yvals=weather_data['Max Temp']\n",
    "plt.scatter(xvals,yvals)\n",
    "plt.title('City Latitude vs. Max Temperature')\n",
    "plt.xlabel('Latititude')\n",
    "plt.ylabel('Max Temperature (F)')\n",
    "plt.savefig(\"../output_data/LatTemp.png\")\n",
    "\n",
    "plt.show()"
   ]
  },
  {
   "cell_type": "markdown",
   "metadata": {},
   "source": [
    "## Latitude vs. Humidity Plot"
   ]
  },
  {
   "cell_type": "code",
   "execution_count": 18,
   "metadata": {},
   "outputs": [
    {
     "data": {
      "image/png": "[encoded data removed]",
      "text/plain": [
       "<Figure size 432x288 with 1 Axes>"
      ]
     },
     "metadata": {
      "needs_background": "light"
     },
     "output_type": "display_data"
    }
   ],
   "source": [
    "xvals=weather_data['Lat']\n",
    "yvals=weather_data['Humidity']\n",
    "plt.scatter(xvals,yvals)\n",
    "plt.title('City Latitude vs. Humidity')\n",
    "plt.xlabel('Latititude')\n",
    "plt.ylabel('Humidity (%)')\n",
    "plt.savefig(\"../output_data/LatHumidity.png\")\n",
    "\n",
    "plt.show()"
   ]
  },
  {
   "cell_type": "markdown",
   "metadata": {},
   "source": [
    "## Latitude vs. Cloudiness Plot"
   ]
  },
  {
   "cell_type": "code",
   "execution_count": 19,
   "metadata": {},
   "outputs": [
    {
     "data": {
      "image/png": "[encoded data removed]",
      "text/plain": [
       "<Figure size 432x288 with 1 Axes>"
      ]
     },
     "metadata": {
      "needs_background": "light"
     },
     "output_type": "display_data"
    }
   ],
   "source": [
    "xvals=weather_data['Lat']\n",
    "yvals=weather_data['Cloudiness']\n",
    "plt.scatter(xvals,yvals)\n",
    "plt.title('City Latitude vs. Cloudiness')\n",
    "plt.xlabel('Latititude')\n",
    "plt.ylabel('Cloudiness (%)')\n",
    "plt.savefig(\"../output_data/LatCloudiness.png\")\n",
    "\n",
    "plt.show()"
   ]
  },
  {
   "cell_type": "markdown",
   "metadata": {},
   "source": [
    "## Latitude vs. Wind Speed Plot"
   ]
  },
  {
   "cell_type": "code",
   "execution_count": 20,
   "metadata": {},
   "outputs": [
    {
     "data": {
      "image/png": "[encoded data removed]",
      "text/plain": [
       "<Figure size 432x288 with 1 Axes>"
      ]
     },
     "metadata": {
      "needs_background": "light"
     },
     "output_type": "display_data"
    }
   ],
   "source": [
    "xvals=weather_data['Lat']\n",
    "yvals=weather_data['Wind Speed']\n",
    "plt.scatter(xvals,yvals)\n",
    "plt.title('City Latitude vs. Wind Speed')\n",
    "plt.xlabel('Latititude')\n",
    "plt.ylabel('Wind Speed (mph)')\n",
    "plt.savefig(\"../output_data/LatWind.png\")\n",
    "\n",
    "plt.show()"
   ]
  },
  {
   "cell_type": "markdown",
   "metadata": {},
   "source": [
    "## Linear Regression"
   ]
  },
  {
   "cell_type": "code",
   "execution_count": 33,
   "metadata": {},
   "outputs": [],
   "source": [
    "n_weather_data=weather_data[weather_data['Lat']>=0]\n",
    "s_weather_data=weather_data[weather_data['Lat']<0]"
   ]
  },
  {
   "cell_type": "markdown",
   "metadata": {},
   "source": [
    "####  Northern Hemisphere - Max Temp vs. Latitude Linear Regression"
   ]
  },
  {
   "cell_type": "code",
   "execution_count": 50,
   "metadata": {},
   "outputs": [
    {
     "data": {
      "image/png": "[encoded data removed]",
      "text/plain": [
       "<Figure size 432x288 with 1 Axes>"
      ]
     },
     "metadata": {
      "needs_background": "light"
     },
     "output_type": "display_data"
    },
    {
     "name": "stdout",
     "output_type": "stream",
     "text": [
      "y = -0.44x + 88\n"
     ]
    }
   ],
   "source": [
    "xvals=n_weather_data['Lat']\n",
    "yvals=n_weather_data['Max Temp']\n",
    "\n",
    "(slope, intercept, rvalue, pvalue, stderr)=stats.linregress(xvals,yvals)\n",
    "regressvals=xvals*slope + intercept\n",
    "line_eq=f'y = {round(slope,2)}x + {round(intercept)}'\n",
    "\n",
    "plt.scatter(xvals,yvals)\n",
    "plt.plot(xvals, regressvals,\"r-\")\n",
    "plt.title('N. Hemisphere: City Latitude vs. Max Temperature')\n",
    "plt.xlabel('Latititude')\n",
    "plt.ylabel('Max Temperature (F)')\n",
    "\n",
    "plt.savefig(\"../output_data/Regress_N_LatTemp.png\")\n",
    "\n",
    "plt.show()\n",
    "print(line_eq)"
   ]
  },
  {
   "cell_type": "markdown",
   "metadata": {},
   "source": [
    "####  Southern Hemisphere - Max Temp vs. Latitude Linear Regression"
   ]
  },
  {
   "cell_type": "code",
   "execution_count": 51,
   "metadata": {},
   "outputs": [
    {
     "data": {
      "image/png": "[encoded data removed]",
      "text/plain": [
       "<Figure size 432x288 with 1 Axes>"
      ]
     },
     "metadata": {
      "needs_background": "light"
     },
     "output_type": "display_data"
    },
    {
     "name": "stdout",
     "output_type": "stream",
     "text": [
      "y = 0.65x + 78\n"
     ]
    }
   ],
   "source": [
    "xvals=s_weather_data['Lat']\n",
    "yvals=s_weather_data['Max Temp']\n",
    "\n",
    "(slope, intercept, rvalue, pvalue, stderr)=stats.linregress(xvals,yvals)\n",
    "regressvals=xvals*slope + intercept\n",
    "line_eq=f'y = {round(slope,2)}x + {round(intercept)}'\n",
    "\n",
    "plt.scatter(xvals,yvals)\n",
    "plt.plot(xvals, regressvals,\"r-\")\n",
    "plt.title('S. Hemisphere: City Latitude vs. Max Temperature')\n",
    "plt.xlabel('Latititude')\n",
    "plt.ylabel('Max Temperature (F)')\n",
    "\n",
    "plt.savefig(\"../output_data/Regress_S_LatTemp.png\")\n",
    "\n",
    "plt.show()\n",
    "print(line_eq)"
   ]
  },
  {
   "cell_type": "markdown",
   "metadata": {},
   "source": [
    "####  Northern Hemisphere - Humidity (%) vs. Latitude Linear Regression"
   ]
  },
  {
   "cell_type": "code",
   "execution_count": 52,
   "metadata": {},
   "outputs": [
    {
     "data": {
      "image/png": "[encoded data removed]",
      "text/plain": [
       "<Figure size 432x288 with 1 Axes>"
      ]
     },
     "metadata": {
      "needs_background": "light"
     },
     "output_type": "display_data"
    },
    {
     "name": "stdout",
     "output_type": "stream",
     "text": [
      "y = -0.07x + 75\n"
     ]
    }
   ],
   "source": [
    "xvals=n_weather_data['Lat']\n",
    "yvals=n_weather_data['Humidity']\n",
    "\n",
    "(slope, intercept, rvalue, pvalue, stderr)=stats.linregress(xvals,yvals)\n",
    "regressvals=xvals*slope + intercept\n",
    "line_eq=f'y = {round(slope,2)}x + {round(intercept)}'\n",
    "\n",
    "plt.scatter(xvals,yvals)\n",
    "plt.plot(xvals, regressvals,\"r-\")\n",
    "plt.title('N. Hemisphere: City Latitude vs. Humidity')\n",
    "plt.xlabel('Latititude')\n",
    "plt.ylabel('Humidity (%)')\n",
    "\n",
    "plt.savefig(\"../output_data/Regress_N_LatHumidity.png\")\n",
    "\n",
    "plt.show()\n",
    "print(line_eq)"
   ]
  },
  {
   "cell_type": "markdown",
   "metadata": {},
   "source": [
    "####  Southern Hemisphere - Humidity (%) vs. Latitude Linear Regression"
   ]
  },
  {
   "cell_type": "code",
   "execution_count": 53,
   "metadata": {},
   "outputs": [
    {
     "data": {
      "image/png": "[encoded data removed]",
      "text/plain": [
       "<Figure size 432x288 with 1 Axes>"
      ]
     },
     "metadata": {
      "needs_background": "light"
     },
     "output_type": "display_data"
    },
    {
     "name": "stdout",
     "output_type": "stream",
     "text": [
      "y = 0.07x + 69\n"
     ]
    }
   ],
   "source": [
    "xvals=s_weather_data['Lat']\n",
    "yvals=s_weather_data['Humidity']\n",
    "\n",
    "(slope, intercept, rvalue, pvalue, stderr)=stats.linregress(xvals,yvals)\n",
    "regressvals=xvals*slope + intercept\n",
    "line_eq=f'y = {round(slope,2)}x + {round(intercept)}'\n",
    "\n",
    "plt.scatter(xvals,yvals)\n",
    "plt.plot(xvals, regressvals,\"r-\")\n",
    "plt.title('S. Hemisphere: City Latitude vs. Humidity')\n",
    "plt.xlabel('Latititude')\n",
    "plt.ylabel('Humidity (%)')\n",
    "\n",
    "plt.savefig(\"../output_data/Regress_S_LatHumidity.png\")\n",
    "\n",
    "plt.show()\n",
    "print(line_eq)"
   ]
  },
  {
   "cell_type": "markdown",
   "metadata": {},
   "source": [
    "####  Northern Hemisphere - Cloudiness (%) vs. Latitude Linear Regression"
   ]
  },
  {
   "cell_type": "code",
   "execution_count": 54,
   "metadata": {},
   "outputs": [
    {
     "data": {
      "image/png": "[encoded data removed]",
      "text/plain": [
       "<Figure size 432x288 with 1 Axes>"
      ]
     },
     "metadata": {
      "needs_background": "light"
     },
     "output_type": "display_data"
    },
    {
     "name": "stdout",
     "output_type": "stream",
     "text": [
      "y = -0.14x + 69\n"
     ]
    }
   ],
   "source": [
    "xvals=n_weather_data['Lat']\n",
    "yvals=n_weather_data['Cloudiness']\n",
    "\n",
    "(slope, intercept, rvalue, pvalue, stderr)=stats.linregress(xvals,yvals)\n",
    "regressvals=xvals*slope + intercept\n",
    "line_eq=f'y = {round(slope,2)}x + {round(intercept)}'\n",
    "\n",
    "plt.scatter(xvals,yvals)\n",
    "plt.plot(xvals, regressvals,\"r-\")\n",
    "plt.title('N. Hemisphere: City Latitude vs. Cloudiness')\n",
    "plt.xlabel('Latititude')\n",
    "plt.ylabel('Cloudiness (%)')\n",
    "\n",
    "plt.savefig(\"../output_data/Regress_N_LatCloudiness.png\")\n",
    "\n",
    "plt.show()\n",
    "print(line_eq)"
   ]
  },
  {
   "cell_type": "markdown",
   "metadata": {},
   "source": [
    "####  Southern Hemisphere - Cloudiness (%) vs. Latitude Linear Regression"
   ]
  },
  {
   "cell_type": "code",
   "execution_count": 55,
   "metadata": {},
   "outputs": [
    {
     "data": {
      "image/png": "[encoded data removed]",
      "text/plain": [
       "<Figure size 432x288 with 1 Axes>"
      ]
     },
     "metadata": {
      "needs_background": "light"
     },
     "output_type": "display_data"
    },
    {
     "name": "stdout",
     "output_type": "stream",
     "text": [
      "y = -0.95x + 22\n"
     ]
    }
   ],
   "source": [
    "xvals=s_weather_data['Lat']\n",
    "yvals=s_weather_data['Cloudiness']\n",
    "\n",
    "(slope, intercept, rvalue, pvalue, stderr)=stats.linregress(xvals,yvals)\n",
    "regressvals=xvals*slope + intercept\n",
    "line_eq=f'y = {round(slope,2)}x + {round(intercept)}'\n",
    "\n",
    "plt.scatter(xvals,yvals)\n",
    "plt.plot(xvals, regressvals,\"r-\")\n",
    "plt.title('S. Hemisphere: City Latitude vs. Cloudiness')\n",
    "plt.xlabel('Latititude')\n",
    "plt.ylabel('Cloudiness (%)')\n",
    "\n",
    "plt.savefig(\"../output_data/Regress_S_LatCloudiness.png\")\n",
    "\n",
    "plt.show()\n",
    "print(line_eq)"
   ]
  },
  {
   "cell_type": "markdown",
   "metadata": {},
   "source": [
    "####  Northern Hemisphere - Wind Speed (mph) vs. Latitude Linear Regression"
   ]
  },
  {
   "cell_type": "code",
   "execution_count": 56,
   "metadata": {},
   "outputs": [
    {
     "data": {
      "image/png": "[encoded data removed]",
      "text/plain": [
       "<Figure size 432x288 with 1 Axes>"
      ]
     },
     "metadata": {
      "needs_background": "light"
     },
     "output_type": "display_data"
    },
    {
     "name": "stdout",
     "output_type": "stream",
     "text": [
      "y = -0.03x + 8\n"
     ]
    }
   ],
   "source": [
    "xvals=n_weather_data['Lat']\n",
    "yvals=n_weather_data['Wind Speed']\n",
    "\n",
    "(slope, intercept, rvalue, pvalue, stderr)=stats.linregress(xvals,yvals)\n",
    "regressvals=xvals*slope + intercept\n",
    "line_eq=f'y = {round(slope,2)}x + {round(intercept)}'\n",
    "\n",
    "plt.scatter(xvals,yvals)\n",
    "plt.plot(xvals, regressvals,\"r-\")\n",
    "plt.title('N. Hemisphere: City Latitude vs. Wind Speed')\n",
    "plt.xlabel('Latititude')\n",
    "plt.ylabel('Widn Speed (mph)')\n",
    "\n",
    "plt.savefig(\"../output_data/Regress_N_LatWind.png\")\n",
    "\n",
    "plt.show()\n",
    "print(line_eq)"
   ]
  },
  {
   "cell_type": "markdown",
   "metadata": {},
   "source": [
    "####  Southern Hemisphere - Wind Speed (mph) vs. Latitude Linear Regression"
   ]
  },
  {
   "cell_type": "code",
   "execution_count": 58,
   "metadata": {},
   "outputs": [
    {
     "data": {
      "image/png": "[encoded data removed]",
      "text/plain": [
       "<Figure size 432x288 with 1 Axes>"
      ]
     },
     "metadata": {
      "needs_background": "light"
     },
     "output_type": "display_data"
    },
    {
     "name": "stdout",
     "output_type": "stream",
     "text": [
      "y = -0.11x + 6\n"
     ]
    }
   ],
   "source": [
    "xvals=s_weather_data['Lat']\n",
    "yvals=s_weather_data['Wind Speed']\n",
    "\n",
    "(slope, intercept, rvalue, pvalue, stderr)=stats.linregress(xvals,yvals)\n",
    "regressvals=xvals*slope + intercept\n",
    "line_eq=f'y = {round(slope,2)}x + {round(intercept)}'\n",
    "\n",
    "plt.scatter(xvals,yvals)\n",
    "plt.plot(xvals, regressvals,\"r-\")\n",
    "plt.title('S. Hemisphere: City Latitude vs. Wind Speed')\n",
    "plt.xlabel('Latititude')\n",
    "plt.ylabel('Widn Speed (mph)')\n",
    "\n",
    "plt.savefig(\"../output_data/Regress_S_LatWind.png\")\n",
    "\n",
    "plt.show()\n",
    "print(line_eq)"
   ]
  },
  {
   "cell_type": "code",
   "execution_count": null,
   "metadata": {},
   "outputs": [],
   "source": []
  }
 ],
 "metadata": {
  "anaconda-cloud": {},
  "kernel_info": {
   "name": "python3"
  },
  "kernelspec": {
   "display_name": "Python [conda env:PythonData] *",
   "language": "python",
   "name": "conda-env-PythonData-py"
  },
  "language_info": {
   "codemirror_mode": {
    "name": "ipython",
    "version": 3
   },
   "file_extension": ".py",
   "mimetype": "text/x-python",
   "name": "python",
   "nbconvert_exporter": "python",
   "pygments_lexer": "ipython3",
   "version": "3.6.13"
  },
  "latex_envs": {
   "LaTeX_envs_menu_present": true,
   "autoclose": false,
   "autocomplete": true,
   "bibliofile": "biblio.bib",
   "cite_by": "apalike",
   "current_citInitial": 1,
   "eqLabelWithNumbers": true,
   "eqNumInitial": 1,
   "hotkeys": {
    "equation": "Ctrl-E",
    "itemize": "Ctrl-I"
   },
   "labels_anchors": false,
   "latex_user_defs": false,
   "report_style_numbering": false,
   "user_envs_cfg": false
  },
  "nteract": {
   "version": "0.12.3"
  }
 },
 "nbformat": 4,
 "nbformat_minor": 2
}
